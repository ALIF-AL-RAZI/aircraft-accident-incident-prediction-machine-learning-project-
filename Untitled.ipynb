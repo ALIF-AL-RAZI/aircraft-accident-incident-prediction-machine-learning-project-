{
 "cells": [
  {
   "cell_type": "code",
   "execution_count": 1,
   "id": "65a61f05",
   "metadata": {},
   "outputs": [],
   "source": [
    "import numpy as np\n",
    "import matplotlib.pyplot as plt\n",
    "import pandas as pd"
   ]
  },
  {
   "cell_type": "code",
   "execution_count": 2,
   "id": "8fb3f0ed",
   "metadata": {},
   "outputs": [],
   "source": [
    "df = pd.read_csv('AviationData.csv',encoding='latin-1', low_memory=False)"
   ]
  },
  {
   "cell_type": "code",
   "execution_count": 3,
   "id": "a8f2a124",
   "metadata": {
    "scrolled": true
   },
   "outputs": [
    {
     "data": {
      "text/html": [
       "<div>\n",
       "<style scoped>\n",
       "    .dataframe tbody tr th:only-of-type {\n",
       "        vertical-align: middle;\n",
       "    }\n",
       "\n",
       "    .dataframe tbody tr th {\n",
       "        vertical-align: top;\n",
       "    }\n",
       "\n",
       "    .dataframe thead th {\n",
       "        text-align: right;\n",
       "    }\n",
       "</style>\n",
       "<table border=\"1\" class=\"dataframe\">\n",
       "  <thead>\n",
       "    <tr style=\"text-align: right;\">\n",
       "      <th></th>\n",
       "      <th>Investigation_Type</th>\n",
       "      <th>Latitude</th>\n",
       "      <th>Longitude</th>\n",
       "      <th>Injury_Severity</th>\n",
       "      <th>Aircraft_damage</th>\n",
       "      <th>Aircraft_Category</th>\n",
       "      <th>Make</th>\n",
       "      <th>Model</th>\n",
       "      <th>Amateur_Built</th>\n",
       "      <th>Number_of_Engines</th>\n",
       "      <th>Engine_Type</th>\n",
       "      <th>Purpose_of_flight</th>\n",
       "      <th>Total_Fatal_Injuries</th>\n",
       "      <th>Total_Serious_Injuries</th>\n",
       "      <th>Total_Minor_Injuries</th>\n",
       "      <th>Total_Uninjured</th>\n",
       "      <th>Weather_Condition</th>\n",
       "      <th>Broad_phase_of_flight</th>\n",
       "    </tr>\n",
       "  </thead>\n",
       "  <tbody>\n",
       "    <tr>\n",
       "      <th>0</th>\n",
       "      <td>Accident</td>\n",
       "      <td>NaN</td>\n",
       "      <td>NaN</td>\n",
       "      <td>Non-Fatal</td>\n",
       "      <td>Substantial</td>\n",
       "      <td>NaN</td>\n",
       "      <td>Cessna</td>\n",
       "      <td>550</td>\n",
       "      <td>No</td>\n",
       "      <td>2.0</td>\n",
       "      <td>Turbo Fan</td>\n",
       "      <td>Positioning</td>\n",
       "      <td>0.0</td>\n",
       "      <td>0.0</td>\n",
       "      <td>0.0</td>\n",
       "      <td>3.0</td>\n",
       "      <td>VMC</td>\n",
       "      <td>Cruise</td>\n",
       "    </tr>\n",
       "    <tr>\n",
       "      <th>1</th>\n",
       "      <td>Accident</td>\n",
       "      <td>NaN</td>\n",
       "      <td>NaN</td>\n",
       "      <td>Fatal(2)</td>\n",
       "      <td>Destroyed</td>\n",
       "      <td>NaN</td>\n",
       "      <td>Bellanca</td>\n",
       "      <td>BL-17-30A</td>\n",
       "      <td>No</td>\n",
       "      <td>1.0</td>\n",
       "      <td>Reciprocating</td>\n",
       "      <td>Personal</td>\n",
       "      <td>2.0</td>\n",
       "      <td>0.0</td>\n",
       "      <td>0.0</td>\n",
       "      <td>0.0</td>\n",
       "      <td>IMC</td>\n",
       "      <td>Cruise</td>\n",
       "    </tr>\n",
       "    <tr>\n",
       "      <th>2</th>\n",
       "      <td>Accident</td>\n",
       "      <td>NaN</td>\n",
       "      <td>NaN</td>\n",
       "      <td>Non-Fatal</td>\n",
       "      <td>Substantial</td>\n",
       "      <td>NaN</td>\n",
       "      <td>Cessna</td>\n",
       "      <td>172G</td>\n",
       "      <td>No</td>\n",
       "      <td>1.0</td>\n",
       "      <td>Reciprocating</td>\n",
       "      <td>Personal</td>\n",
       "      <td>0.0</td>\n",
       "      <td>0.0</td>\n",
       "      <td>0.0</td>\n",
       "      <td>2.0</td>\n",
       "      <td>VMC</td>\n",
       "      <td>Cruise</td>\n",
       "    </tr>\n",
       "    <tr>\n",
       "      <th>3</th>\n",
       "      <td>Accident</td>\n",
       "      <td>NaN</td>\n",
       "      <td>NaN</td>\n",
       "      <td>Non-Fatal</td>\n",
       "      <td>Substantial</td>\n",
       "      <td>NaN</td>\n",
       "      <td>Cessna</td>\n",
       "      <td>172A</td>\n",
       "      <td>No</td>\n",
       "      <td>1.0</td>\n",
       "      <td>Reciprocating</td>\n",
       "      <td>Instructional</td>\n",
       "      <td>0.0</td>\n",
       "      <td>0.0</td>\n",
       "      <td>1.0</td>\n",
       "      <td>0.0</td>\n",
       "      <td>VMC</td>\n",
       "      <td>Cruise</td>\n",
       "    </tr>\n",
       "    <tr>\n",
       "      <th>4</th>\n",
       "      <td>Accident</td>\n",
       "      <td>NaN</td>\n",
       "      <td>NaN</td>\n",
       "      <td>Non-Fatal</td>\n",
       "      <td>Substantial</td>\n",
       "      <td>NaN</td>\n",
       "      <td>Piper</td>\n",
       "      <td>PA-46-310P</td>\n",
       "      <td>No</td>\n",
       "      <td>1.0</td>\n",
       "      <td>Turbo Prop</td>\n",
       "      <td>Personal</td>\n",
       "      <td>0.0</td>\n",
       "      <td>0.0</td>\n",
       "      <td>0.0</td>\n",
       "      <td>5.0</td>\n",
       "      <td>VMC</td>\n",
       "      <td>Cruise</td>\n",
       "    </tr>\n",
       "    <tr>\n",
       "      <th>...</th>\n",
       "      <td>...</td>\n",
       "      <td>...</td>\n",
       "      <td>...</td>\n",
       "      <td>...</td>\n",
       "      <td>...</td>\n",
       "      <td>...</td>\n",
       "      <td>...</td>\n",
       "      <td>...</td>\n",
       "      <td>...</td>\n",
       "      <td>...</td>\n",
       "      <td>...</td>\n",
       "      <td>...</td>\n",
       "      <td>...</td>\n",
       "      <td>...</td>\n",
       "      <td>...</td>\n",
       "      <td>...</td>\n",
       "      <td>...</td>\n",
       "      <td>...</td>\n",
       "    </tr>\n",
       "    <tr>\n",
       "      <th>41209</th>\n",
       "      <td>Accident</td>\n",
       "      <td>NaN</td>\n",
       "      <td>NaN</td>\n",
       "      <td>Minor</td>\n",
       "      <td>NaN</td>\n",
       "      <td>NaN</td>\n",
       "      <td>PIPER</td>\n",
       "      <td>PA-28-151</td>\n",
       "      <td>No</td>\n",
       "      <td>NaN</td>\n",
       "      <td>NaN</td>\n",
       "      <td>Personal</td>\n",
       "      <td>0.0</td>\n",
       "      <td>1.0</td>\n",
       "      <td>0.0</td>\n",
       "      <td>0.0</td>\n",
       "      <td>NaN</td>\n",
       "      <td>NaN</td>\n",
       "    </tr>\n",
       "    <tr>\n",
       "      <th>41210</th>\n",
       "      <td>Accident</td>\n",
       "      <td>NaN</td>\n",
       "      <td>NaN</td>\n",
       "      <td>NaN</td>\n",
       "      <td>NaN</td>\n",
       "      <td>NaN</td>\n",
       "      <td>BELLANCA</td>\n",
       "      <td>7ECA</td>\n",
       "      <td>No</td>\n",
       "      <td>NaN</td>\n",
       "      <td>NaN</td>\n",
       "      <td>NaN</td>\n",
       "      <td>0.0</td>\n",
       "      <td>0.0</td>\n",
       "      <td>0.0</td>\n",
       "      <td>0.0</td>\n",
       "      <td>NaN</td>\n",
       "      <td>NaN</td>\n",
       "    </tr>\n",
       "    <tr>\n",
       "      <th>41211</th>\n",
       "      <td>Accident</td>\n",
       "      <td>341525N</td>\n",
       "      <td>1112021W</td>\n",
       "      <td>Non-Fatal</td>\n",
       "      <td>Substantial</td>\n",
       "      <td>Airplane</td>\n",
       "      <td>AMERICAN CHAMPION AIRCRAFT</td>\n",
       "      <td>8GCBC</td>\n",
       "      <td>No</td>\n",
       "      <td>1.0</td>\n",
       "      <td>NaN</td>\n",
       "      <td>Personal</td>\n",
       "      <td>0.0</td>\n",
       "      <td>0.0</td>\n",
       "      <td>0.0</td>\n",
       "      <td>1.0</td>\n",
       "      <td>VMC</td>\n",
       "      <td>NaN</td>\n",
       "    </tr>\n",
       "    <tr>\n",
       "      <th>41212</th>\n",
       "      <td>Accident</td>\n",
       "      <td>NaN</td>\n",
       "      <td>NaN</td>\n",
       "      <td>NaN</td>\n",
       "      <td>NaN</td>\n",
       "      <td>NaN</td>\n",
       "      <td>CESSNA</td>\n",
       "      <td>210N</td>\n",
       "      <td>No</td>\n",
       "      <td>NaN</td>\n",
       "      <td>NaN</td>\n",
       "      <td>Personal</td>\n",
       "      <td>0.0</td>\n",
       "      <td>0.0</td>\n",
       "      <td>0.0</td>\n",
       "      <td>0.0</td>\n",
       "      <td>NaN</td>\n",
       "      <td>NaN</td>\n",
       "    </tr>\n",
       "    <tr>\n",
       "      <th>41213</th>\n",
       "      <td>Accident</td>\n",
       "      <td>NaN</td>\n",
       "      <td>NaN</td>\n",
       "      <td>Minor</td>\n",
       "      <td>NaN</td>\n",
       "      <td>NaN</td>\n",
       "      <td>PIPER</td>\n",
       "      <td>PA-24-260</td>\n",
       "      <td>No</td>\n",
       "      <td>NaN</td>\n",
       "      <td>NaN</td>\n",
       "      <td>Personal</td>\n",
       "      <td>0.0</td>\n",
       "      <td>1.0</td>\n",
       "      <td>0.0</td>\n",
       "      <td>1.0</td>\n",
       "      <td>NaN</td>\n",
       "      <td>NaN</td>\n",
       "    </tr>\n",
       "  </tbody>\n",
       "</table>\n",
       "<p>41214 rows × 18 columns</p>\n",
       "</div>"
      ],
      "text/plain": [
       "      Investigation_Type Latitude Longitude Injury_Severity Aircraft_damage  \\\n",
       "0               Accident      NaN       NaN       Non-Fatal     Substantial   \n",
       "1               Accident      NaN       NaN        Fatal(2)       Destroyed   \n",
       "2               Accident      NaN       NaN       Non-Fatal     Substantial   \n",
       "3               Accident      NaN       NaN       Non-Fatal     Substantial   \n",
       "4               Accident      NaN       NaN       Non-Fatal     Substantial   \n",
       "...                  ...      ...       ...             ...             ...   \n",
       "41209           Accident      NaN       NaN           Minor             NaN   \n",
       "41210           Accident      NaN       NaN             NaN             NaN   \n",
       "41211           Accident  341525N  1112021W       Non-Fatal     Substantial   \n",
       "41212           Accident      NaN       NaN             NaN             NaN   \n",
       "41213           Accident      NaN       NaN           Minor             NaN   \n",
       "\n",
       "      Aircraft_Category                        Make       Model Amateur_Built  \\\n",
       "0                   NaN                      Cessna         550            No   \n",
       "1                   NaN                    Bellanca   BL-17-30A            No   \n",
       "2                   NaN                      Cessna        172G            No   \n",
       "3                   NaN                      Cessna        172A            No   \n",
       "4                   NaN                       Piper  PA-46-310P            No   \n",
       "...                 ...                         ...         ...           ...   \n",
       "41209               NaN                       PIPER   PA-28-151            No   \n",
       "41210               NaN                    BELLANCA        7ECA            No   \n",
       "41211          Airplane  AMERICAN CHAMPION AIRCRAFT       8GCBC            No   \n",
       "41212               NaN                      CESSNA        210N            No   \n",
       "41213               NaN                       PIPER   PA-24-260            No   \n",
       "\n",
       "       Number_of_Engines    Engine_Type Purpose_of_flight  \\\n",
       "0                    2.0      Turbo Fan       Positioning   \n",
       "1                    1.0  Reciprocating          Personal   \n",
       "2                    1.0  Reciprocating          Personal   \n",
       "3                    1.0  Reciprocating     Instructional   \n",
       "4                    1.0     Turbo Prop          Personal   \n",
       "...                  ...            ...               ...   \n",
       "41209                NaN            NaN          Personal   \n",
       "41210                NaN            NaN               NaN   \n",
       "41211                1.0            NaN          Personal   \n",
       "41212                NaN            NaN          Personal   \n",
       "41213                NaN            NaN          Personal   \n",
       "\n",
       "       Total_Fatal_Injuries  Total_Serious_Injuries  Total_Minor_Injuries  \\\n",
       "0                       0.0                     0.0                   0.0   \n",
       "1                       2.0                     0.0                   0.0   \n",
       "2                       0.0                     0.0                   0.0   \n",
       "3                       0.0                     0.0                   1.0   \n",
       "4                       0.0                     0.0                   0.0   \n",
       "...                     ...                     ...                   ...   \n",
       "41209                   0.0                     1.0                   0.0   \n",
       "41210                   0.0                     0.0                   0.0   \n",
       "41211                   0.0                     0.0                   0.0   \n",
       "41212                   0.0                     0.0                   0.0   \n",
       "41213                   0.0                     1.0                   0.0   \n",
       "\n",
       "       Total_Uninjured Weather_Condition Broad_phase_of_flight  \n",
       "0                  3.0               VMC                Cruise  \n",
       "1                  0.0               IMC                Cruise  \n",
       "2                  2.0               VMC                Cruise  \n",
       "3                  0.0               VMC                Cruise  \n",
       "4                  5.0               VMC                Cruise  \n",
       "...                ...               ...                   ...  \n",
       "41209              0.0               NaN                   NaN  \n",
       "41210              0.0               NaN                   NaN  \n",
       "41211              1.0               VMC                   NaN  \n",
       "41212              0.0               NaN                   NaN  \n",
       "41213              1.0               NaN                   NaN  \n",
       "\n",
       "[41214 rows x 18 columns]"
      ]
     },
     "execution_count": 3,
     "metadata": {},
     "output_type": "execute_result"
    }
   ],
   "source": [
    "df"
   ]
  },
  {
   "cell_type": "code",
   "execution_count": 4,
   "id": "1c49e9c0",
   "metadata": {},
   "outputs": [
    {
     "data": {
      "text/plain": [
       "(41214, 18)"
      ]
     },
     "execution_count": 4,
     "metadata": {},
     "output_type": "execute_result"
    }
   ],
   "source": [
    "df.shape"
   ]
  },
  {
   "cell_type": "code",
   "execution_count": 5,
   "id": "d9f7efe5",
   "metadata": {},
   "outputs": [
    {
     "data": {
      "text/plain": [
       "Investigation_Type            0\n",
       "Latitude                   6855\n",
       "Longitude                  6864\n",
       "Injury_Severity            1000\n",
       "Aircraft_damage            2068\n",
       "Aircraft_Category         12808\n",
       "Make                         55\n",
       "Model                        68\n",
       "Amateur_Built               100\n",
       "Number_of_Engines          4947\n",
       "Engine_Type                7060\n",
       "Purpose_of_flight          6092\n",
       "Total_Fatal_Injuries      11083\n",
       "Total_Serious_Injuries    12094\n",
       "Total_Minor_Injuries      11513\n",
       "Total_Uninjured            5640\n",
       "Weather_Condition          4467\n",
       "Broad_phase_of_flight     26261\n",
       "dtype: int64"
      ]
     },
     "execution_count": 5,
     "metadata": {},
     "output_type": "execute_result"
    }
   ],
   "source": [
    "df.isnull().sum()"
   ]
  },
  {
   "cell_type": "code",
   "execution_count": 6,
   "id": "e00ba4e2",
   "metadata": {},
   "outputs": [],
   "source": [
    "from sklearn.preprocessing import LabelEncoder\n",
    "label_encoder = LabelEncoder()"
   ]
  },
  {
   "cell_type": "code",
   "execution_count": null,
   "id": "db6c8c59",
   "metadata": {},
   "outputs": [],
   "source": []
  },
  {
   "cell_type": "code",
   "execution_count": null,
   "id": "5c03aac7",
   "metadata": {},
   "outputs": [],
   "source": []
  },
  {
   "cell_type": "code",
   "execution_count": 7,
   "id": "49c4c1e5",
   "metadata": {},
   "outputs": [],
   "source": [
    "df['Investigation_Type']=label_encoder.fit_transform(df['Investigation_Type'])"
   ]
  },
  {
   "cell_type": "code",
   "execution_count": 8,
   "id": "2df9ecf4",
   "metadata": {},
   "outputs": [
    {
     "data": {
      "text/html": [
       "<div>\n",
       "<style scoped>\n",
       "    .dataframe tbody tr th:only-of-type {\n",
       "        vertical-align: middle;\n",
       "    }\n",
       "\n",
       "    .dataframe tbody tr th {\n",
       "        vertical-align: top;\n",
       "    }\n",
       "\n",
       "    .dataframe thead th {\n",
       "        text-align: right;\n",
       "    }\n",
       "</style>\n",
       "<table border=\"1\" class=\"dataframe\">\n",
       "  <thead>\n",
       "    <tr style=\"text-align: right;\">\n",
       "      <th></th>\n",
       "      <th>Investigation_Type</th>\n",
       "      <th>Latitude</th>\n",
       "      <th>Longitude</th>\n",
       "      <th>Injury_Severity</th>\n",
       "      <th>Aircraft_damage</th>\n",
       "      <th>Aircraft_Category</th>\n",
       "      <th>Make</th>\n",
       "      <th>Model</th>\n",
       "      <th>Amateur_Built</th>\n",
       "      <th>Number_of_Engines</th>\n",
       "      <th>Engine_Type</th>\n",
       "      <th>Purpose_of_flight</th>\n",
       "      <th>Total_Fatal_Injuries</th>\n",
       "      <th>Total_Serious_Injuries</th>\n",
       "      <th>Total_Minor_Injuries</th>\n",
       "      <th>Total_Uninjured</th>\n",
       "      <th>Weather_Condition</th>\n",
       "      <th>Broad_phase_of_flight</th>\n",
       "    </tr>\n",
       "  </thead>\n",
       "  <tbody>\n",
       "    <tr>\n",
       "      <th>0</th>\n",
       "      <td>0</td>\n",
       "      <td>NaN</td>\n",
       "      <td>NaN</td>\n",
       "      <td>Non-Fatal</td>\n",
       "      <td>Substantial</td>\n",
       "      <td>NaN</td>\n",
       "      <td>Cessna</td>\n",
       "      <td>550</td>\n",
       "      <td>No</td>\n",
       "      <td>2.0</td>\n",
       "      <td>Turbo Fan</td>\n",
       "      <td>Positioning</td>\n",
       "      <td>0.0</td>\n",
       "      <td>0.0</td>\n",
       "      <td>0.0</td>\n",
       "      <td>3.0</td>\n",
       "      <td>VMC</td>\n",
       "      <td>Cruise</td>\n",
       "    </tr>\n",
       "    <tr>\n",
       "      <th>1</th>\n",
       "      <td>0</td>\n",
       "      <td>NaN</td>\n",
       "      <td>NaN</td>\n",
       "      <td>Fatal(2)</td>\n",
       "      <td>Destroyed</td>\n",
       "      <td>NaN</td>\n",
       "      <td>Bellanca</td>\n",
       "      <td>BL-17-30A</td>\n",
       "      <td>No</td>\n",
       "      <td>1.0</td>\n",
       "      <td>Reciprocating</td>\n",
       "      <td>Personal</td>\n",
       "      <td>2.0</td>\n",
       "      <td>0.0</td>\n",
       "      <td>0.0</td>\n",
       "      <td>0.0</td>\n",
       "      <td>IMC</td>\n",
       "      <td>Cruise</td>\n",
       "    </tr>\n",
       "    <tr>\n",
       "      <th>2</th>\n",
       "      <td>0</td>\n",
       "      <td>NaN</td>\n",
       "      <td>NaN</td>\n",
       "      <td>Non-Fatal</td>\n",
       "      <td>Substantial</td>\n",
       "      <td>NaN</td>\n",
       "      <td>Cessna</td>\n",
       "      <td>172G</td>\n",
       "      <td>No</td>\n",
       "      <td>1.0</td>\n",
       "      <td>Reciprocating</td>\n",
       "      <td>Personal</td>\n",
       "      <td>0.0</td>\n",
       "      <td>0.0</td>\n",
       "      <td>0.0</td>\n",
       "      <td>2.0</td>\n",
       "      <td>VMC</td>\n",
       "      <td>Cruise</td>\n",
       "    </tr>\n",
       "    <tr>\n",
       "      <th>3</th>\n",
       "      <td>0</td>\n",
       "      <td>NaN</td>\n",
       "      <td>NaN</td>\n",
       "      <td>Non-Fatal</td>\n",
       "      <td>Substantial</td>\n",
       "      <td>NaN</td>\n",
       "      <td>Cessna</td>\n",
       "      <td>172A</td>\n",
       "      <td>No</td>\n",
       "      <td>1.0</td>\n",
       "      <td>Reciprocating</td>\n",
       "      <td>Instructional</td>\n",
       "      <td>0.0</td>\n",
       "      <td>0.0</td>\n",
       "      <td>1.0</td>\n",
       "      <td>0.0</td>\n",
       "      <td>VMC</td>\n",
       "      <td>Cruise</td>\n",
       "    </tr>\n",
       "    <tr>\n",
       "      <th>4</th>\n",
       "      <td>0</td>\n",
       "      <td>NaN</td>\n",
       "      <td>NaN</td>\n",
       "      <td>Non-Fatal</td>\n",
       "      <td>Substantial</td>\n",
       "      <td>NaN</td>\n",
       "      <td>Piper</td>\n",
       "      <td>PA-46-310P</td>\n",
       "      <td>No</td>\n",
       "      <td>1.0</td>\n",
       "      <td>Turbo Prop</td>\n",
       "      <td>Personal</td>\n",
       "      <td>0.0</td>\n",
       "      <td>0.0</td>\n",
       "      <td>0.0</td>\n",
       "      <td>5.0</td>\n",
       "      <td>VMC</td>\n",
       "      <td>Cruise</td>\n",
       "    </tr>\n",
       "    <tr>\n",
       "      <th>...</th>\n",
       "      <td>...</td>\n",
       "      <td>...</td>\n",
       "      <td>...</td>\n",
       "      <td>...</td>\n",
       "      <td>...</td>\n",
       "      <td>...</td>\n",
       "      <td>...</td>\n",
       "      <td>...</td>\n",
       "      <td>...</td>\n",
       "      <td>...</td>\n",
       "      <td>...</td>\n",
       "      <td>...</td>\n",
       "      <td>...</td>\n",
       "      <td>...</td>\n",
       "      <td>...</td>\n",
       "      <td>...</td>\n",
       "      <td>...</td>\n",
       "      <td>...</td>\n",
       "    </tr>\n",
       "    <tr>\n",
       "      <th>41209</th>\n",
       "      <td>0</td>\n",
       "      <td>NaN</td>\n",
       "      <td>NaN</td>\n",
       "      <td>Minor</td>\n",
       "      <td>NaN</td>\n",
       "      <td>NaN</td>\n",
       "      <td>PIPER</td>\n",
       "      <td>PA-28-151</td>\n",
       "      <td>No</td>\n",
       "      <td>NaN</td>\n",
       "      <td>NaN</td>\n",
       "      <td>Personal</td>\n",
       "      <td>0.0</td>\n",
       "      <td>1.0</td>\n",
       "      <td>0.0</td>\n",
       "      <td>0.0</td>\n",
       "      <td>NaN</td>\n",
       "      <td>NaN</td>\n",
       "    </tr>\n",
       "    <tr>\n",
       "      <th>41210</th>\n",
       "      <td>0</td>\n",
       "      <td>NaN</td>\n",
       "      <td>NaN</td>\n",
       "      <td>NaN</td>\n",
       "      <td>NaN</td>\n",
       "      <td>NaN</td>\n",
       "      <td>BELLANCA</td>\n",
       "      <td>7ECA</td>\n",
       "      <td>No</td>\n",
       "      <td>NaN</td>\n",
       "      <td>NaN</td>\n",
       "      <td>NaN</td>\n",
       "      <td>0.0</td>\n",
       "      <td>0.0</td>\n",
       "      <td>0.0</td>\n",
       "      <td>0.0</td>\n",
       "      <td>NaN</td>\n",
       "      <td>NaN</td>\n",
       "    </tr>\n",
       "    <tr>\n",
       "      <th>41211</th>\n",
       "      <td>0</td>\n",
       "      <td>341525N</td>\n",
       "      <td>1112021W</td>\n",
       "      <td>Non-Fatal</td>\n",
       "      <td>Substantial</td>\n",
       "      <td>Airplane</td>\n",
       "      <td>AMERICAN CHAMPION AIRCRAFT</td>\n",
       "      <td>8GCBC</td>\n",
       "      <td>No</td>\n",
       "      <td>1.0</td>\n",
       "      <td>NaN</td>\n",
       "      <td>Personal</td>\n",
       "      <td>0.0</td>\n",
       "      <td>0.0</td>\n",
       "      <td>0.0</td>\n",
       "      <td>1.0</td>\n",
       "      <td>VMC</td>\n",
       "      <td>NaN</td>\n",
       "    </tr>\n",
       "    <tr>\n",
       "      <th>41212</th>\n",
       "      <td>0</td>\n",
       "      <td>NaN</td>\n",
       "      <td>NaN</td>\n",
       "      <td>NaN</td>\n",
       "      <td>NaN</td>\n",
       "      <td>NaN</td>\n",
       "      <td>CESSNA</td>\n",
       "      <td>210N</td>\n",
       "      <td>No</td>\n",
       "      <td>NaN</td>\n",
       "      <td>NaN</td>\n",
       "      <td>Personal</td>\n",
       "      <td>0.0</td>\n",
       "      <td>0.0</td>\n",
       "      <td>0.0</td>\n",
       "      <td>0.0</td>\n",
       "      <td>NaN</td>\n",
       "      <td>NaN</td>\n",
       "    </tr>\n",
       "    <tr>\n",
       "      <th>41213</th>\n",
       "      <td>0</td>\n",
       "      <td>NaN</td>\n",
       "      <td>NaN</td>\n",
       "      <td>Minor</td>\n",
       "      <td>NaN</td>\n",
       "      <td>NaN</td>\n",
       "      <td>PIPER</td>\n",
       "      <td>PA-24-260</td>\n",
       "      <td>No</td>\n",
       "      <td>NaN</td>\n",
       "      <td>NaN</td>\n",
       "      <td>Personal</td>\n",
       "      <td>0.0</td>\n",
       "      <td>1.0</td>\n",
       "      <td>0.0</td>\n",
       "      <td>1.0</td>\n",
       "      <td>NaN</td>\n",
       "      <td>NaN</td>\n",
       "    </tr>\n",
       "  </tbody>\n",
       "</table>\n",
       "<p>41214 rows × 18 columns</p>\n",
       "</div>"
      ],
      "text/plain": [
       "       Investigation_Type Latitude Longitude Injury_Severity Aircraft_damage  \\\n",
       "0                       0      NaN       NaN       Non-Fatal     Substantial   \n",
       "1                       0      NaN       NaN        Fatal(2)       Destroyed   \n",
       "2                       0      NaN       NaN       Non-Fatal     Substantial   \n",
       "3                       0      NaN       NaN       Non-Fatal     Substantial   \n",
       "4                       0      NaN       NaN       Non-Fatal     Substantial   \n",
       "...                   ...      ...       ...             ...             ...   \n",
       "41209                   0      NaN       NaN           Minor             NaN   \n",
       "41210                   0      NaN       NaN             NaN             NaN   \n",
       "41211                   0  341525N  1112021W       Non-Fatal     Substantial   \n",
       "41212                   0      NaN       NaN             NaN             NaN   \n",
       "41213                   0      NaN       NaN           Minor             NaN   \n",
       "\n",
       "      Aircraft_Category                        Make       Model Amateur_Built  \\\n",
       "0                   NaN                      Cessna         550            No   \n",
       "1                   NaN                    Bellanca   BL-17-30A            No   \n",
       "2                   NaN                      Cessna        172G            No   \n",
       "3                   NaN                      Cessna        172A            No   \n",
       "4                   NaN                       Piper  PA-46-310P            No   \n",
       "...                 ...                         ...         ...           ...   \n",
       "41209               NaN                       PIPER   PA-28-151            No   \n",
       "41210               NaN                    BELLANCA        7ECA            No   \n",
       "41211          Airplane  AMERICAN CHAMPION AIRCRAFT       8GCBC            No   \n",
       "41212               NaN                      CESSNA        210N            No   \n",
       "41213               NaN                       PIPER   PA-24-260            No   \n",
       "\n",
       "       Number_of_Engines    Engine_Type Purpose_of_flight  \\\n",
       "0                    2.0      Turbo Fan       Positioning   \n",
       "1                    1.0  Reciprocating          Personal   \n",
       "2                    1.0  Reciprocating          Personal   \n",
       "3                    1.0  Reciprocating     Instructional   \n",
       "4                    1.0     Turbo Prop          Personal   \n",
       "...                  ...            ...               ...   \n",
       "41209                NaN            NaN          Personal   \n",
       "41210                NaN            NaN               NaN   \n",
       "41211                1.0            NaN          Personal   \n",
       "41212                NaN            NaN          Personal   \n",
       "41213                NaN            NaN          Personal   \n",
       "\n",
       "       Total_Fatal_Injuries  Total_Serious_Injuries  Total_Minor_Injuries  \\\n",
       "0                       0.0                     0.0                   0.0   \n",
       "1                       2.0                     0.0                   0.0   \n",
       "2                       0.0                     0.0                   0.0   \n",
       "3                       0.0                     0.0                   1.0   \n",
       "4                       0.0                     0.0                   0.0   \n",
       "...                     ...                     ...                   ...   \n",
       "41209                   0.0                     1.0                   0.0   \n",
       "41210                   0.0                     0.0                   0.0   \n",
       "41211                   0.0                     0.0                   0.0   \n",
       "41212                   0.0                     0.0                   0.0   \n",
       "41213                   0.0                     1.0                   0.0   \n",
       "\n",
       "       Total_Uninjured Weather_Condition Broad_phase_of_flight  \n",
       "0                  3.0               VMC                Cruise  \n",
       "1                  0.0               IMC                Cruise  \n",
       "2                  2.0               VMC                Cruise  \n",
       "3                  0.0               VMC                Cruise  \n",
       "4                  5.0               VMC                Cruise  \n",
       "...                ...               ...                   ...  \n",
       "41209              0.0               NaN                   NaN  \n",
       "41210              0.0               NaN                   NaN  \n",
       "41211              1.0               VMC                   NaN  \n",
       "41212              0.0               NaN                   NaN  \n",
       "41213              1.0               NaN                   NaN  \n",
       "\n",
       "[41214 rows x 18 columns]"
      ]
     },
     "execution_count": 8,
     "metadata": {},
     "output_type": "execute_result"
    }
   ],
   "source": [
    "df"
   ]
  },
  {
   "cell_type": "code",
   "execution_count": null,
   "id": "3d1f114b",
   "metadata": {},
   "outputs": [],
   "source": []
  },
  {
   "cell_type": "code",
   "execution_count": 9,
   "id": "763858b0",
   "metadata": {},
   "outputs": [],
   "source": [
    "#air_category = pd.get_dummies(x['Aircraft Category'],drop_first=True)"
   ]
  },
  {
   "cell_type": "code",
   "execution_count": 10,
   "id": "56172a8c",
   "metadata": {},
   "outputs": [],
   "source": [
    "#Investigation_Type = pd.get_dummies(df[\"Investigation.Type\"])"
   ]
  },
  {
   "cell_type": "code",
   "execution_count": 11,
   "id": "9668c042",
   "metadata": {},
   "outputs": [],
   "source": [
    "#df = pd.concat([df,Investigation_Type],axis=1)"
   ]
  },
  {
   "cell_type": "code",
   "execution_count": 12,
   "id": "468d7c3b",
   "metadata": {},
   "outputs": [],
   "source": [
    "#df =df.drop(['Investigation.Type'], axis=1)"
   ]
  },
  {
   "cell_type": "code",
   "execution_count": 13,
   "id": "97bb3faa",
   "metadata": {},
   "outputs": [],
   "source": [
    "#df"
   ]
  },
  {
   "cell_type": "code",
   "execution_count": null,
   "id": "a8fbb0a0",
   "metadata": {},
   "outputs": [],
   "source": []
  },
  {
   "cell_type": "code",
   "execution_count": 14,
   "id": "0b163c94",
   "metadata": {},
   "outputs": [],
   "source": [
    "#Investigation_Type"
   ]
  },
  {
   "cell_type": "code",
   "execution_count": 15,
   "id": "67fad20e",
   "metadata": {},
   "outputs": [],
   "source": [
    "#df= df.dropna()"
   ]
  },
  {
   "cell_type": "code",
   "execution_count": 16,
   "id": "f0628b0a",
   "metadata": {},
   "outputs": [],
   "source": [
    "df=df.drop('Injury_Severity',axis=1)\n",
    "#df=df.drop('Aircraft_damage',axis=1)\n",
    "df=df.drop('Purpose_of_flight',axis=1)\n",
    "df=df.drop('Total_Fatal_Injuries',axis=1)\n",
    "#df=df.drop('Total_Serious_Injuries',axis=1)\n",
    "#df=df.drop('Total_Minor_Injuries',axis=1)\n",
    "#df=df.drop('Total_Uninjured',axis=1)\n",
    "df=df.drop('Broad_phase_of_flight',axis=1)\n",
    "df=df.drop('Latitude',axis=1)\n",
    "df=df.drop('Longitude',axis=1)\n"
   ]
  },
  {
   "cell_type": "code",
   "execution_count": 17,
   "id": "b4c291c7",
   "metadata": {},
   "outputs": [],
   "source": [
    "#y.value_counts()"
   ]
  },
  {
   "cell_type": "code",
   "execution_count": 18,
   "id": "ad2cdcbb",
   "metadata": {},
   "outputs": [
    {
     "data": {
      "text/html": [
       "<div>\n",
       "<style scoped>\n",
       "    .dataframe tbody tr th:only-of-type {\n",
       "        vertical-align: middle;\n",
       "    }\n",
       "\n",
       "    .dataframe tbody tr th {\n",
       "        vertical-align: top;\n",
       "    }\n",
       "\n",
       "    .dataframe thead th {\n",
       "        text-align: right;\n",
       "    }\n",
       "</style>\n",
       "<table border=\"1\" class=\"dataframe\">\n",
       "  <thead>\n",
       "    <tr style=\"text-align: right;\">\n",
       "      <th></th>\n",
       "      <th>Investigation_Type</th>\n",
       "      <th>Aircraft_damage</th>\n",
       "      <th>Aircraft_Category</th>\n",
       "      <th>Make</th>\n",
       "      <th>Model</th>\n",
       "      <th>Amateur_Built</th>\n",
       "      <th>Number_of_Engines</th>\n",
       "      <th>Engine_Type</th>\n",
       "      <th>Total_Serious_Injuries</th>\n",
       "      <th>Total_Minor_Injuries</th>\n",
       "      <th>Total_Uninjured</th>\n",
       "      <th>Weather_Condition</th>\n",
       "    </tr>\n",
       "  </thead>\n",
       "  <tbody>\n",
       "    <tr>\n",
       "      <th>0</th>\n",
       "      <td>0</td>\n",
       "      <td>Substantial</td>\n",
       "      <td>NaN</td>\n",
       "      <td>Cessna</td>\n",
       "      <td>550</td>\n",
       "      <td>No</td>\n",
       "      <td>2.0</td>\n",
       "      <td>Turbo Fan</td>\n",
       "      <td>0.0</td>\n",
       "      <td>0.0</td>\n",
       "      <td>3.0</td>\n",
       "      <td>VMC</td>\n",
       "    </tr>\n",
       "    <tr>\n",
       "      <th>1</th>\n",
       "      <td>0</td>\n",
       "      <td>Destroyed</td>\n",
       "      <td>NaN</td>\n",
       "      <td>Bellanca</td>\n",
       "      <td>BL-17-30A</td>\n",
       "      <td>No</td>\n",
       "      <td>1.0</td>\n",
       "      <td>Reciprocating</td>\n",
       "      <td>0.0</td>\n",
       "      <td>0.0</td>\n",
       "      <td>0.0</td>\n",
       "      <td>IMC</td>\n",
       "    </tr>\n",
       "    <tr>\n",
       "      <th>2</th>\n",
       "      <td>0</td>\n",
       "      <td>Substantial</td>\n",
       "      <td>NaN</td>\n",
       "      <td>Cessna</td>\n",
       "      <td>172G</td>\n",
       "      <td>No</td>\n",
       "      <td>1.0</td>\n",
       "      <td>Reciprocating</td>\n",
       "      <td>0.0</td>\n",
       "      <td>0.0</td>\n",
       "      <td>2.0</td>\n",
       "      <td>VMC</td>\n",
       "    </tr>\n",
       "    <tr>\n",
       "      <th>3</th>\n",
       "      <td>0</td>\n",
       "      <td>Substantial</td>\n",
       "      <td>NaN</td>\n",
       "      <td>Cessna</td>\n",
       "      <td>172A</td>\n",
       "      <td>No</td>\n",
       "      <td>1.0</td>\n",
       "      <td>Reciprocating</td>\n",
       "      <td>0.0</td>\n",
       "      <td>1.0</td>\n",
       "      <td>0.0</td>\n",
       "      <td>VMC</td>\n",
       "    </tr>\n",
       "    <tr>\n",
       "      <th>4</th>\n",
       "      <td>0</td>\n",
       "      <td>Substantial</td>\n",
       "      <td>NaN</td>\n",
       "      <td>Piper</td>\n",
       "      <td>PA-46-310P</td>\n",
       "      <td>No</td>\n",
       "      <td>1.0</td>\n",
       "      <td>Turbo Prop</td>\n",
       "      <td>0.0</td>\n",
       "      <td>0.0</td>\n",
       "      <td>5.0</td>\n",
       "      <td>VMC</td>\n",
       "    </tr>\n",
       "    <tr>\n",
       "      <th>...</th>\n",
       "      <td>...</td>\n",
       "      <td>...</td>\n",
       "      <td>...</td>\n",
       "      <td>...</td>\n",
       "      <td>...</td>\n",
       "      <td>...</td>\n",
       "      <td>...</td>\n",
       "      <td>...</td>\n",
       "      <td>...</td>\n",
       "      <td>...</td>\n",
       "      <td>...</td>\n",
       "      <td>...</td>\n",
       "    </tr>\n",
       "    <tr>\n",
       "      <th>41209</th>\n",
       "      <td>0</td>\n",
       "      <td>NaN</td>\n",
       "      <td>NaN</td>\n",
       "      <td>PIPER</td>\n",
       "      <td>PA-28-151</td>\n",
       "      <td>No</td>\n",
       "      <td>NaN</td>\n",
       "      <td>NaN</td>\n",
       "      <td>1.0</td>\n",
       "      <td>0.0</td>\n",
       "      <td>0.0</td>\n",
       "      <td>NaN</td>\n",
       "    </tr>\n",
       "    <tr>\n",
       "      <th>41210</th>\n",
       "      <td>0</td>\n",
       "      <td>NaN</td>\n",
       "      <td>NaN</td>\n",
       "      <td>BELLANCA</td>\n",
       "      <td>7ECA</td>\n",
       "      <td>No</td>\n",
       "      <td>NaN</td>\n",
       "      <td>NaN</td>\n",
       "      <td>0.0</td>\n",
       "      <td>0.0</td>\n",
       "      <td>0.0</td>\n",
       "      <td>NaN</td>\n",
       "    </tr>\n",
       "    <tr>\n",
       "      <th>41211</th>\n",
       "      <td>0</td>\n",
       "      <td>Substantial</td>\n",
       "      <td>Airplane</td>\n",
       "      <td>AMERICAN CHAMPION AIRCRAFT</td>\n",
       "      <td>8GCBC</td>\n",
       "      <td>No</td>\n",
       "      <td>1.0</td>\n",
       "      <td>NaN</td>\n",
       "      <td>0.0</td>\n",
       "      <td>0.0</td>\n",
       "      <td>1.0</td>\n",
       "      <td>VMC</td>\n",
       "    </tr>\n",
       "    <tr>\n",
       "      <th>41212</th>\n",
       "      <td>0</td>\n",
       "      <td>NaN</td>\n",
       "      <td>NaN</td>\n",
       "      <td>CESSNA</td>\n",
       "      <td>210N</td>\n",
       "      <td>No</td>\n",
       "      <td>NaN</td>\n",
       "      <td>NaN</td>\n",
       "      <td>0.0</td>\n",
       "      <td>0.0</td>\n",
       "      <td>0.0</td>\n",
       "      <td>NaN</td>\n",
       "    </tr>\n",
       "    <tr>\n",
       "      <th>41213</th>\n",
       "      <td>0</td>\n",
       "      <td>NaN</td>\n",
       "      <td>NaN</td>\n",
       "      <td>PIPER</td>\n",
       "      <td>PA-24-260</td>\n",
       "      <td>No</td>\n",
       "      <td>NaN</td>\n",
       "      <td>NaN</td>\n",
       "      <td>1.0</td>\n",
       "      <td>0.0</td>\n",
       "      <td>1.0</td>\n",
       "      <td>NaN</td>\n",
       "    </tr>\n",
       "  </tbody>\n",
       "</table>\n",
       "<p>41214 rows × 12 columns</p>\n",
       "</div>"
      ],
      "text/plain": [
       "       Investigation_Type Aircraft_damage Aircraft_Category  \\\n",
       "0                       0     Substantial               NaN   \n",
       "1                       0       Destroyed               NaN   \n",
       "2                       0     Substantial               NaN   \n",
       "3                       0     Substantial               NaN   \n",
       "4                       0     Substantial               NaN   \n",
       "...                   ...             ...               ...   \n",
       "41209                   0             NaN               NaN   \n",
       "41210                   0             NaN               NaN   \n",
       "41211                   0     Substantial          Airplane   \n",
       "41212                   0             NaN               NaN   \n",
       "41213                   0             NaN               NaN   \n",
       "\n",
       "                             Make       Model Amateur_Built  \\\n",
       "0                          Cessna         550            No   \n",
       "1                        Bellanca   BL-17-30A            No   \n",
       "2                          Cessna        172G            No   \n",
       "3                          Cessna        172A            No   \n",
       "4                           Piper  PA-46-310P            No   \n",
       "...                           ...         ...           ...   \n",
       "41209                       PIPER   PA-28-151            No   \n",
       "41210                    BELLANCA        7ECA            No   \n",
       "41211  AMERICAN CHAMPION AIRCRAFT       8GCBC            No   \n",
       "41212                      CESSNA        210N            No   \n",
       "41213                       PIPER   PA-24-260            No   \n",
       "\n",
       "       Number_of_Engines    Engine_Type  Total_Serious_Injuries  \\\n",
       "0                    2.0      Turbo Fan                     0.0   \n",
       "1                    1.0  Reciprocating                     0.0   \n",
       "2                    1.0  Reciprocating                     0.0   \n",
       "3                    1.0  Reciprocating                     0.0   \n",
       "4                    1.0     Turbo Prop                     0.0   \n",
       "...                  ...            ...                     ...   \n",
       "41209                NaN            NaN                     1.0   \n",
       "41210                NaN            NaN                     0.0   \n",
       "41211                1.0            NaN                     0.0   \n",
       "41212                NaN            NaN                     0.0   \n",
       "41213                NaN            NaN                     1.0   \n",
       "\n",
       "       Total_Minor_Injuries  Total_Uninjured Weather_Condition  \n",
       "0                       0.0              3.0               VMC  \n",
       "1                       0.0              0.0               IMC  \n",
       "2                       0.0              2.0               VMC  \n",
       "3                       1.0              0.0               VMC  \n",
       "4                       0.0              5.0               VMC  \n",
       "...                     ...              ...               ...  \n",
       "41209                   0.0              0.0               NaN  \n",
       "41210                   0.0              0.0               NaN  \n",
       "41211                   0.0              1.0               VMC  \n",
       "41212                   0.0              0.0               NaN  \n",
       "41213                   0.0              1.0               NaN  \n",
       "\n",
       "[41214 rows x 12 columns]"
      ]
     },
     "execution_count": 18,
     "metadata": {},
     "output_type": "execute_result"
    }
   ],
   "source": [
    "df"
   ]
  },
  {
   "cell_type": "markdown",
   "id": "7afbdc7f",
   "metadata": {},
   "source": [
    "count_class_0, count_class_1 = df.Investigation_Type.value_counts()"
   ]
  },
  {
   "cell_type": "code",
   "execution_count": 19,
   "id": "a6b41ad7",
   "metadata": {},
   "outputs": [],
   "source": [
    "count_class_0, count_class_1 = df.Investigation_Type.value_counts()"
   ]
  },
  {
   "cell_type": "code",
   "execution_count": 20,
   "id": "889818d8",
   "metadata": {},
   "outputs": [],
   "source": [
    "df_class_0 = df[df['Investigation_Type']==0]\n",
    "df_class_1 = df[df['Investigation_Type']==1]"
   ]
  },
  {
   "cell_type": "code",
   "execution_count": 21,
   "id": "81e4dbe0",
   "metadata": {},
   "outputs": [
    {
     "data": {
      "text/plain": [
       "(38916, 12)"
      ]
     },
     "execution_count": 21,
     "metadata": {},
     "output_type": "execute_result"
    }
   ],
   "source": [
    "df_class_0.shape"
   ]
  },
  {
   "cell_type": "code",
   "execution_count": 22,
   "id": "8b424ca8",
   "metadata": {},
   "outputs": [
    {
     "data": {
      "text/plain": [
       "Investigation_Type            0\n",
       "Aircraft_damage             884\n",
       "Aircraft_Category         12090\n",
       "Make                         28\n",
       "Model                        36\n",
       "Amateur_Built                56\n",
       "Number_of_Engines          3844\n",
       "Engine_Type                5828\n",
       "Total_Serious_Injuries    11526\n",
       "Total_Minor_Injuries      10966\n",
       "Total_Uninjured            5526\n",
       "Weather_Condition          3113\n",
       "dtype: int64"
      ]
     },
     "execution_count": 22,
     "metadata": {},
     "output_type": "execute_result"
    }
   ],
   "source": [
    "df_class_0.isnull().sum()"
   ]
  },
  {
   "cell_type": "code",
   "execution_count": 23,
   "id": "d6ffa914",
   "metadata": {},
   "outputs": [],
   "source": [
    "df_class_0 = df_class_0.dropna()"
   ]
  },
  {
   "cell_type": "code",
   "execution_count": 24,
   "id": "acea58b8",
   "metadata": {},
   "outputs": [
    {
     "data": {
      "text/plain": [
       "(17534, 12)"
      ]
     },
     "execution_count": 24,
     "metadata": {},
     "output_type": "execute_result"
    }
   ],
   "source": [
    "df_class_0.shape"
   ]
  },
  {
   "cell_type": "code",
   "execution_count": 25,
   "id": "db2cc409",
   "metadata": {},
   "outputs": [],
   "source": [
    "#df_class_1 = df_class_1.dropna()"
   ]
  },
  {
   "cell_type": "code",
   "execution_count": 26,
   "id": "e407e189",
   "metadata": {},
   "outputs": [
    {
     "data": {
      "text/plain": [
       "(2298, 12)"
      ]
     },
     "execution_count": 26,
     "metadata": {},
     "output_type": "execute_result"
    }
   ],
   "source": [
    "df_class_1.shape"
   ]
  },
  {
   "cell_type": "code",
   "execution_count": 27,
   "id": "93c3ea32",
   "metadata": {},
   "outputs": [
    {
     "data": {
      "text/plain": [
       "Investigation_Type           0\n",
       "Aircraft_damage           1184\n",
       "Aircraft_Category          718\n",
       "Make                        27\n",
       "Model                       32\n",
       "Amateur_Built               44\n",
       "Number_of_Engines         1103\n",
       "Engine_Type               1232\n",
       "Total_Serious_Injuries     568\n",
       "Total_Minor_Injuries       547\n",
       "Total_Uninjured            114\n",
       "Weather_Condition         1354\n",
       "dtype: int64"
      ]
     },
     "execution_count": 27,
     "metadata": {},
     "output_type": "execute_result"
    }
   ],
   "source": [
    "df_class_1.isnull().sum()"
   ]
  },
  {
   "cell_type": "code",
   "execution_count": 28,
   "id": "9690d268",
   "metadata": {},
   "outputs": [],
   "source": [
    "df_class_1 = df_class_1.sample(count_class_0, replace =True)"
   ]
  },
  {
   "cell_type": "code",
   "execution_count": 29,
   "id": "9856d026",
   "metadata": {},
   "outputs": [
    {
     "data": {
      "text/plain": [
       "(38916, 12)"
      ]
     },
     "execution_count": 29,
     "metadata": {},
     "output_type": "execute_result"
    }
   ],
   "source": [
    "df_class_1.shape"
   ]
  },
  {
   "cell_type": "code",
   "execution_count": 30,
   "id": "6ff4521b",
   "metadata": {},
   "outputs": [],
   "source": [
    "#df_class_1 = df_class_1.dropna()"
   ]
  },
  {
   "cell_type": "code",
   "execution_count": 31,
   "id": "050ee982",
   "metadata": {},
   "outputs": [
    {
     "data": {
      "text/plain": [
       "(38916, 12)"
      ]
     },
     "execution_count": 31,
     "metadata": {},
     "output_type": "execute_result"
    }
   ],
   "source": [
    "df_class_1.shape"
   ]
  },
  {
   "cell_type": "code",
   "execution_count": 32,
   "id": "ff7730f1",
   "metadata": {},
   "outputs": [
    {
     "ename": "NameError",
     "evalue": "name 'df_over' is not defined",
     "output_type": "error",
     "traceback": [
      "\u001b[1;31m---------------------------------------------------------------------------\u001b[0m",
      "\u001b[1;31mNameError\u001b[0m                                 Traceback (most recent call last)",
      "\u001b[1;32m~\\AppData\\Local\\Temp\\ipykernel_17980\\2931786625.py\u001b[0m in \u001b[0;36m<module>\u001b[1;34m\u001b[0m\n\u001b[1;32m----> 1\u001b[1;33m \u001b[0mdf_over\u001b[0m\u001b[1;33m\u001b[0m\u001b[1;33m\u001b[0m\u001b[0m\n\u001b[0m",
      "\u001b[1;31mNameError\u001b[0m: name 'df_over' is not defined"
     ]
    }
   ],
   "source": [
    "df_over"
   ]
  },
  {
   "cell_type": "code",
   "execution_count": null,
   "id": "4620f6e2",
   "metadata": {},
   "outputs": [],
   "source": [
    "df_class_1.isnull().sum()"
   ]
  },
  {
   "cell_type": "code",
   "execution_count": null,
   "id": "5700afbc",
   "metadata": {},
   "outputs": [],
   "source": [
    "# x = df.drop(['Investigation_Type'], axis=1)\n",
    "# y = df['Investigation_Type']\n",
    "# #X_train =x"
   ]
  },
  {
   "cell_type": "code",
   "execution_count": null,
   "id": "24682fcc",
   "metadata": {},
   "outputs": [],
   "source": []
  },
  {
   "cell_type": "code",
   "execution_count": null,
   "id": "5e84b1ed",
   "metadata": {},
   "outputs": [],
   "source": [
    "# from imblearn.combine import SMOTEENN"
   ]
  },
  {
   "cell_type": "code",
   "execution_count": null,
   "id": "29ad66a7",
   "metadata": {},
   "outputs": [],
   "source": [
    "# smote = SMOTEENN()\n",
    "# x_sm, y_sm=smote.fit_resample(x,y)"
   ]
  },
  {
   "cell_type": "code",
   "execution_count": null,
   "id": "ab80f988",
   "metadata": {},
   "outputs": [],
   "source": [
    "#df_class_1.fillna(df.mean(), inplace=True)"
   ]
  },
  {
   "cell_type": "code",
   "execution_count": null,
   "id": "f0b809bf",
   "metadata": {},
   "outputs": [],
   "source": [
    "df_class_1.isnull().sum()"
   ]
  },
  {
   "cell_type": "code",
   "execution_count": null,
   "id": "78845bdc",
   "metadata": {},
   "outputs": [],
   "source": [
    "df_class_0_under=df_class_0.sample(count_class_1)"
   ]
  },
  {
   "cell_type": "code",
   "execution_count": null,
   "id": "e18f2f94",
   "metadata": {},
   "outputs": [],
   "source": [
    "df =pd.concat([df_class_0, df_class_1], axis=0)"
   ]
  },
  {
   "cell_type": "code",
   "execution_count": null,
   "id": "96a0ab8e",
   "metadata": {},
   "outputs": [],
   "source": [
    "df.Investigation_Type.value_counts()"
   ]
  },
  {
   "cell_type": "code",
   "execution_count": null,
   "id": "d5a9f155",
   "metadata": {},
   "outputs": [],
   "source": [
    "df"
   ]
  },
  {
   "cell_type": "code",
   "execution_count": null,
   "id": "54494752",
   "metadata": {},
   "outputs": [],
   "source": []
  },
  {
   "cell_type": "code",
   "execution_count": null,
   "id": "907870b0",
   "metadata": {},
   "outputs": [],
   "source": [
    "#df =df.fillna(value==df['Number_of_Engines'].mean())"
   ]
  },
  {
   "cell_type": "code",
   "execution_count": null,
   "id": "c9959e2f",
   "metadata": {},
   "outputs": [],
   "source": [
    "df"
   ]
  },
  {
   "cell_type": "code",
   "execution_count": null,
   "id": "d114b103",
   "metadata": {},
   "outputs": [],
   "source": [
    "#df['Investigation_Type']=label_encoder.fit_transform(df['Investigation_Type'])"
   ]
  },
  {
   "cell_type": "code",
   "execution_count": null,
   "id": "fa69d068",
   "metadata": {},
   "outputs": [],
   "source": [
    "df1 = df['Amateur_Built'].dropna()"
   ]
  },
  {
   "cell_type": "code",
   "execution_count": null,
   "id": "f3a9d62c",
   "metadata": {},
   "outputs": [],
   "source": []
  },
  {
   "cell_type": "code",
   "execution_count": null,
   "id": "bb82b2f9",
   "metadata": {},
   "outputs": [],
   "source": [
    "x = df.drop(['Investigation_Type'], axis=1)"
   ]
  },
  {
   "cell_type": "code",
   "execution_count": null,
   "id": "0daa38d9",
   "metadata": {},
   "outputs": [],
   "source": [
    "#y = df['Investigation_Type']"
   ]
  },
  {
   "cell_type": "code",
   "execution_count": null,
   "id": "7fd9176b",
   "metadata": {},
   "outputs": [],
   "source": [
    "df.isnull().sum()"
   ]
  },
  {
   "cell_type": "code",
   "execution_count": null,
   "id": "6b42bd7a",
   "metadata": {},
   "outputs": [],
   "source": []
  },
  {
   "cell_type": "code",
   "execution_count": null,
   "id": "0c036784",
   "metadata": {},
   "outputs": [],
   "source": [
    "x.info()"
   ]
  },
  {
   "cell_type": "code",
   "execution_count": null,
   "id": "46741c44",
   "metadata": {},
   "outputs": [],
   "source": [
    "from sklearn.model_selection import train_test_split"
   ]
  },
  {
   "cell_type": "code",
   "execution_count": null,
   "id": "6bb349fa",
   "metadata": {},
   "outputs": [],
   "source": [
    "x_train, x_test, y_train, y_test = train_test_split(x,y,test_size =0.2, random_state =5)"
   ]
  },
  {
   "cell_type": "code",
   "execution_count": null,
   "id": "7d68cebd",
   "metadata": {},
   "outputs": [],
   "source": [
    "from sklearn.impute import KNNImputer"
   ]
  },
  {
   "cell_type": "code",
   "execution_count": null,
   "id": "8fcf7413",
   "metadata": {},
   "outputs": [],
   "source": [
    "knn = KNNImputer()"
   ]
  },
  {
   "cell_type": "code",
   "execution_count": null,
   "id": "8fd74b93",
   "metadata": {},
   "outputs": [],
   "source": [
    "x.isnull().sum()"
   ]
  },
  {
   "cell_type": "code",
   "execution_count": null,
   "id": "9bb3c35c",
   "metadata": {},
   "outputs": [],
   "source": []
  },
  {
   "cell_type": "code",
   "execution_count": null,
   "id": "f2337705",
   "metadata": {},
   "outputs": [],
   "source": [
    "df"
   ]
  },
  {
   "cell_type": "code",
   "execution_count": null,
   "id": "55e818df",
   "metadata": {},
   "outputs": [],
   "source": [
    "count_class_0, count_class_1 = df.Investigation_Type.value_counts()"
   ]
  },
  {
   "cell_type": "code",
   "execution_count": null,
   "id": "75899a82",
   "metadata": {},
   "outputs": [],
   "source": [
    "df_claass_0 = df[df['Investigation_Type']==0]\n",
    "df_claass_1 = df[df['Investigation_Type']==1]\n"
   ]
  },
  {
   "cell_type": "code",
   "execution_count": null,
   "id": "02d8cb03",
   "metadata": {},
   "outputs": [],
   "source": [
    "df_claass_0.shape"
   ]
  },
  {
   "cell_type": "code",
   "execution_count": null,
   "id": "9308667d",
   "metadata": {},
   "outputs": [],
   "source": [
    "df_claass_1.shape"
   ]
  },
  {
   "cell_type": "code",
   "execution_count": null,
   "id": "38320f4b",
   "metadata": {},
   "outputs": [],
   "source": [
    "#y= pd.concat([y,Investigation_Type],axis=1)"
   ]
  },
  {
   "cell_type": "code",
   "execution_count": null,
   "id": "9a4b7a31",
   "metadata": {},
   "outputs": [],
   "source": [
    "#y=y.drop('Investigation.Type',axis=1)"
   ]
  },
  {
   "cell_type": "code",
   "execution_count": null,
   "id": "52e72bec",
   "metadata": {},
   "outputs": [],
   "source": [
    "# air_category = pd.get_dummies(x['Aircraft Category'],drop_first=True)"
   ]
  },
  {
   "cell_type": "code",
   "execution_count": null,
   "id": "cbd87139",
   "metadata": {},
   "outputs": [],
   "source": [
    "# air_category"
   ]
  },
  {
   "cell_type": "code",
   "execution_count": null,
   "id": "72ca8c49",
   "metadata": {},
   "outputs": [],
   "source": [
    "#y"
   ]
  },
  {
   "cell_type": "code",
   "execution_count": null,
   "id": "e27a18ca",
   "metadata": {},
   "outputs": [],
   "source": [
    "# x=x.drop('Event Id',axis=1)"
   ]
  },
  {
   "cell_type": "code",
   "execution_count": null,
   "id": "01f4d947",
   "metadata": {},
   "outputs": [],
   "source": [
    "# x=x.drop('Accident Number',axis=1)\n",
    "# x=x.drop('Event Date',axis=1)\n",
    "# x=x.drop('Location',axis=1)\n",
    "# x=x.drop('Country',axis=1)\n",
    "# x=x.drop('Airport Code',axis=1)\n",
    "# x=x.drop('Airport Name',axis=1)\n",
    "# x=x.drop('Aircraft Damage',axis=1)\n",
    "# x=x.drop('FAR Description',axis=1)\n"
   ]
  },
  {
   "cell_type": "code",
   "execution_count": null,
   "id": "7f52323d",
   "metadata": {},
   "outputs": [],
   "source": [
    "#x"
   ]
  },
  {
   "cell_type": "code",
   "execution_count": null,
   "id": "f5686305",
   "metadata": {},
   "outputs": [],
   "source": [
    "#x"
   ]
  },
  {
   "cell_type": "code",
   "execution_count": null,
   "id": "146afc51",
   "metadata": {},
   "outputs": [],
   "source": [
    "# x = x.drop('Aircraft Category',axis=1)"
   ]
  },
  {
   "cell_type": "code",
   "execution_count": null,
   "id": "b56d00ac",
   "metadata": {},
   "outputs": [],
   "source": [
    "# x= pd.concat([x,air_category],axis=1)"
   ]
  },
  {
   "cell_type": "code",
   "execution_count": null,
   "id": "302e454e",
   "metadata": {},
   "outputs": [],
   "source": [
    "# x"
   ]
  },
  {
   "cell_type": "code",
   "execution_count": null,
   "id": "6eb6d6fa",
   "metadata": {},
   "outputs": [],
   "source": [
    "# make = pd.get_dummies(x['Make'],drop_first=True)\n",
    "# x = x.drop('Make',axis=1)\n",
    "# x= pd.concat([x,make],axis=1)"
   ]
  },
  {
   "cell_type": "code",
   "execution_count": null,
   "id": "05b5f99c",
   "metadata": {},
   "outputs": [],
   "source": [
    "#x"
   ]
  },
  {
   "cell_type": "code",
   "execution_count": null,
   "id": "4eb70f13",
   "metadata": {},
   "outputs": [],
   "source": [
    "#df.isnull().sum()"
   ]
  },
  {
   "cell_type": "code",
   "execution_count": null,
   "id": "132ac5d4",
   "metadata": {},
   "outputs": [],
   "source": [
    "#from imblearn.under_sampling import NearMiss"
   ]
  },
  {
   "cell_type": "code",
   "execution_count": null,
   "id": "3ec4f1cc",
   "metadata": {},
   "outputs": [],
   "source": [
    "#nm = NearMiss()"
   ]
  },
  {
   "cell_type": "code",
   "execution_count": null,
   "id": "0a768b5a",
   "metadata": {},
   "outputs": [],
   "source": [
    "#x_nm, y_nm = nm.fit_resample(x, y)"
   ]
  },
  {
   "cell_type": "code",
   "execution_count": null,
   "id": "068e5b94",
   "metadata": {},
   "outputs": [],
   "source": []
  }
 ],
 "metadata": {
  "kernelspec": {
   "display_name": "Python 3 (ipykernel)",
   "language": "python",
   "name": "python3"
  },
  "language_info": {
   "codemirror_mode": {
    "name": "ipython",
    "version": 3
   },
   "file_extension": ".py",
   "mimetype": "text/x-python",
   "name": "python",
   "nbconvert_exporter": "python",
   "pygments_lexer": "ipython3",
   "version": "3.9.13"
  }
 },
 "nbformat": 4,
 "nbformat_minor": 5
}
