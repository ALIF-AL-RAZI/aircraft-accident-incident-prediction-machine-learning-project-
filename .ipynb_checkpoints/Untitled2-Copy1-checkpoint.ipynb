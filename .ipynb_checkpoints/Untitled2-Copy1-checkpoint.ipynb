{
 "cells": [
  {
   "cell_type": "code",
   "execution_count": 1,
   "id": "dcc1c258",
   "metadata": {},
   "outputs": [],
   "source": [
    "import matplotlib.pyplot as plt\n",
    "import pandas as pd\n",
    "import numpy as np"
   ]
  },
  {
   "cell_type": "code",
   "execution_count": 2,
   "id": "0110d31d",
   "metadata": {},
   "outputs": [],
   "source": [
    "df = pd.read_csv('AviationData.csv',encoding='latin-1', low_memory=False)"
   ]
  },
  {
   "cell_type": "code",
   "execution_count": 3,
   "id": "5feb47b9",
   "metadata": {},
   "outputs": [
    {
     "data": {
      "text/html": [
       "<div>\n",
       "<style scoped>\n",
       "    .dataframe tbody tr th:only-of-type {\n",
       "        vertical-align: middle;\n",
       "    }\n",
       "\n",
       "    .dataframe tbody tr th {\n",
       "        vertical-align: top;\n",
       "    }\n",
       "\n",
       "    .dataframe thead th {\n",
       "        text-align: right;\n",
       "    }\n",
       "</style>\n",
       "<table border=\"1\" class=\"dataframe\">\n",
       "  <thead>\n",
       "    <tr style=\"text-align: right;\">\n",
       "      <th></th>\n",
       "      <th>Investigation_Type</th>\n",
       "      <th>Latitude</th>\n",
       "      <th>Longitude</th>\n",
       "      <th>Injury_Severity</th>\n",
       "      <th>Aircraft_damage</th>\n",
       "      <th>Aircraft_Category</th>\n",
       "      <th>Make</th>\n",
       "      <th>Model</th>\n",
       "      <th>Amateur_Built</th>\n",
       "      <th>Number_of_Engines</th>\n",
       "      <th>Engine_Type</th>\n",
       "      <th>Purpose_of_flight</th>\n",
       "      <th>Total_Fatal_Injuries</th>\n",
       "      <th>Total_Serious_Injuries</th>\n",
       "      <th>Total_Minor_Injuries</th>\n",
       "      <th>Total_Uninjured</th>\n",
       "      <th>Weather_Condition</th>\n",
       "      <th>Broad_phase_of_flight</th>\n",
       "    </tr>\n",
       "  </thead>\n",
       "  <tbody>\n",
       "    <tr>\n",
       "      <th>0</th>\n",
       "      <td>Accident</td>\n",
       "      <td>NaN</td>\n",
       "      <td>NaN</td>\n",
       "      <td>Non-Fatal</td>\n",
       "      <td>Substantial</td>\n",
       "      <td>NaN</td>\n",
       "      <td>Cessna</td>\n",
       "      <td>550</td>\n",
       "      <td>No</td>\n",
       "      <td>2.0</td>\n",
       "      <td>Turbo Fan</td>\n",
       "      <td>Positioning</td>\n",
       "      <td>0.0</td>\n",
       "      <td>0.0</td>\n",
       "      <td>0.0</td>\n",
       "      <td>3.0</td>\n",
       "      <td>VMC</td>\n",
       "      <td>Cruise</td>\n",
       "    </tr>\n",
       "    <tr>\n",
       "      <th>1</th>\n",
       "      <td>Accident</td>\n",
       "      <td>NaN</td>\n",
       "      <td>NaN</td>\n",
       "      <td>Fatal(2)</td>\n",
       "      <td>Destroyed</td>\n",
       "      <td>NaN</td>\n",
       "      <td>Bellanca</td>\n",
       "      <td>BL-17</td>\n",
       "      <td>No</td>\n",
       "      <td>1.0</td>\n",
       "      <td>Reciprocating</td>\n",
       "      <td>Personal</td>\n",
       "      <td>2.0</td>\n",
       "      <td>0.0</td>\n",
       "      <td>0.0</td>\n",
       "      <td>0.0</td>\n",
       "      <td>IMC</td>\n",
       "      <td>Cruise</td>\n",
       "    </tr>\n",
       "    <tr>\n",
       "      <th>2</th>\n",
       "      <td>Accident</td>\n",
       "      <td>NaN</td>\n",
       "      <td>NaN</td>\n",
       "      <td>Non-Fatal</td>\n",
       "      <td>Substantial</td>\n",
       "      <td>NaN</td>\n",
       "      <td>Cessna</td>\n",
       "      <td>172</td>\n",
       "      <td>No</td>\n",
       "      <td>1.0</td>\n",
       "      <td>Reciprocating</td>\n",
       "      <td>Personal</td>\n",
       "      <td>0.0</td>\n",
       "      <td>0.0</td>\n",
       "      <td>0.0</td>\n",
       "      <td>2.0</td>\n",
       "      <td>VMC</td>\n",
       "      <td>Cruise</td>\n",
       "    </tr>\n",
       "    <tr>\n",
       "      <th>3</th>\n",
       "      <td>Accident</td>\n",
       "      <td>NaN</td>\n",
       "      <td>NaN</td>\n",
       "      <td>Non-Fatal</td>\n",
       "      <td>Substantial</td>\n",
       "      <td>NaN</td>\n",
       "      <td>Cessna</td>\n",
       "      <td>172</td>\n",
       "      <td>No</td>\n",
       "      <td>1.0</td>\n",
       "      <td>Reciprocating</td>\n",
       "      <td>Instructional</td>\n",
       "      <td>0.0</td>\n",
       "      <td>0.0</td>\n",
       "      <td>1.0</td>\n",
       "      <td>0.0</td>\n",
       "      <td>VMC</td>\n",
       "      <td>Cruise</td>\n",
       "    </tr>\n",
       "    <tr>\n",
       "      <th>4</th>\n",
       "      <td>Accident</td>\n",
       "      <td>NaN</td>\n",
       "      <td>NaN</td>\n",
       "      <td>Non-Fatal</td>\n",
       "      <td>Substantial</td>\n",
       "      <td>NaN</td>\n",
       "      <td>Piper</td>\n",
       "      <td>PA-46</td>\n",
       "      <td>No</td>\n",
       "      <td>1.0</td>\n",
       "      <td>Turbo Prop</td>\n",
       "      <td>Personal</td>\n",
       "      <td>0.0</td>\n",
       "      <td>0.0</td>\n",
       "      <td>0.0</td>\n",
       "      <td>5.0</td>\n",
       "      <td>VMC</td>\n",
       "      <td>Cruise</td>\n",
       "    </tr>\n",
       "    <tr>\n",
       "      <th>...</th>\n",
       "      <td>...</td>\n",
       "      <td>...</td>\n",
       "      <td>...</td>\n",
       "      <td>...</td>\n",
       "      <td>...</td>\n",
       "      <td>...</td>\n",
       "      <td>...</td>\n",
       "      <td>...</td>\n",
       "      <td>...</td>\n",
       "      <td>...</td>\n",
       "      <td>...</td>\n",
       "      <td>...</td>\n",
       "      <td>...</td>\n",
       "      <td>...</td>\n",
       "      <td>...</td>\n",
       "      <td>...</td>\n",
       "      <td>...</td>\n",
       "      <td>...</td>\n",
       "    </tr>\n",
       "    <tr>\n",
       "      <th>41209</th>\n",
       "      <td>Accident</td>\n",
       "      <td>NaN</td>\n",
       "      <td>NaN</td>\n",
       "      <td>Minor</td>\n",
       "      <td>NaN</td>\n",
       "      <td>NaN</td>\n",
       "      <td>PIPER</td>\n",
       "      <td>PA-28</td>\n",
       "      <td>No</td>\n",
       "      <td>NaN</td>\n",
       "      <td>NaN</td>\n",
       "      <td>Personal</td>\n",
       "      <td>0.0</td>\n",
       "      <td>1.0</td>\n",
       "      <td>0.0</td>\n",
       "      <td>0.0</td>\n",
       "      <td>NaN</td>\n",
       "      <td>NaN</td>\n",
       "    </tr>\n",
       "    <tr>\n",
       "      <th>41210</th>\n",
       "      <td>Accident</td>\n",
       "      <td>NaN</td>\n",
       "      <td>NaN</td>\n",
       "      <td>NaN</td>\n",
       "      <td>NaN</td>\n",
       "      <td>NaN</td>\n",
       "      <td>BELLANCA</td>\n",
       "      <td>7ECA</td>\n",
       "      <td>No</td>\n",
       "      <td>NaN</td>\n",
       "      <td>NaN</td>\n",
       "      <td>NaN</td>\n",
       "      <td>0.0</td>\n",
       "      <td>0.0</td>\n",
       "      <td>0.0</td>\n",
       "      <td>0.0</td>\n",
       "      <td>NaN</td>\n",
       "      <td>NaN</td>\n",
       "    </tr>\n",
       "    <tr>\n",
       "      <th>41211</th>\n",
       "      <td>Accident</td>\n",
       "      <td>341525N</td>\n",
       "      <td>1112021W</td>\n",
       "      <td>Non-Fatal</td>\n",
       "      <td>Substantial</td>\n",
       "      <td>Airplane</td>\n",
       "      <td>AMERICAN CHAMPION AIRCRAFT</td>\n",
       "      <td>8GCBC</td>\n",
       "      <td>No</td>\n",
       "      <td>1.0</td>\n",
       "      <td>NaN</td>\n",
       "      <td>Personal</td>\n",
       "      <td>0.0</td>\n",
       "      <td>0.0</td>\n",
       "      <td>0.0</td>\n",
       "      <td>1.0</td>\n",
       "      <td>VMC</td>\n",
       "      <td>NaN</td>\n",
       "    </tr>\n",
       "    <tr>\n",
       "      <th>41212</th>\n",
       "      <td>Accident</td>\n",
       "      <td>NaN</td>\n",
       "      <td>NaN</td>\n",
       "      <td>NaN</td>\n",
       "      <td>NaN</td>\n",
       "      <td>NaN</td>\n",
       "      <td>CESSNA</td>\n",
       "      <td>210N</td>\n",
       "      <td>No</td>\n",
       "      <td>NaN</td>\n",
       "      <td>NaN</td>\n",
       "      <td>Personal</td>\n",
       "      <td>0.0</td>\n",
       "      <td>0.0</td>\n",
       "      <td>0.0</td>\n",
       "      <td>0.0</td>\n",
       "      <td>NaN</td>\n",
       "      <td>NaN</td>\n",
       "    </tr>\n",
       "    <tr>\n",
       "      <th>41213</th>\n",
       "      <td>Accident</td>\n",
       "      <td>NaN</td>\n",
       "      <td>NaN</td>\n",
       "      <td>Minor</td>\n",
       "      <td>NaN</td>\n",
       "      <td>NaN</td>\n",
       "      <td>PIPER</td>\n",
       "      <td>PA-24</td>\n",
       "      <td>No</td>\n",
       "      <td>NaN</td>\n",
       "      <td>NaN</td>\n",
       "      <td>Personal</td>\n",
       "      <td>0.0</td>\n",
       "      <td>1.0</td>\n",
       "      <td>0.0</td>\n",
       "      <td>1.0</td>\n",
       "      <td>NaN</td>\n",
       "      <td>NaN</td>\n",
       "    </tr>\n",
       "  </tbody>\n",
       "</table>\n",
       "<p>41214 rows × 18 columns</p>\n",
       "</div>"
      ],
      "text/plain": [
       "      Investigation_Type Latitude Longitude Injury_Severity Aircraft_damage  \\\n",
       "0               Accident      NaN       NaN       Non-Fatal     Substantial   \n",
       "1               Accident      NaN       NaN        Fatal(2)       Destroyed   \n",
       "2               Accident      NaN       NaN       Non-Fatal     Substantial   \n",
       "3               Accident      NaN       NaN       Non-Fatal     Substantial   \n",
       "4               Accident      NaN       NaN       Non-Fatal     Substantial   \n",
       "...                  ...      ...       ...             ...             ...   \n",
       "41209           Accident      NaN       NaN           Minor             NaN   \n",
       "41210           Accident      NaN       NaN             NaN             NaN   \n",
       "41211           Accident  341525N  1112021W       Non-Fatal     Substantial   \n",
       "41212           Accident      NaN       NaN             NaN             NaN   \n",
       "41213           Accident      NaN       NaN           Minor             NaN   \n",
       "\n",
       "      Aircraft_Category                        Make  Model Amateur_Built  \\\n",
       "0                   NaN                      Cessna    550            No   \n",
       "1                   NaN                    Bellanca  BL-17            No   \n",
       "2                   NaN                      Cessna    172            No   \n",
       "3                   NaN                      Cessna    172            No   \n",
       "4                   NaN                       Piper  PA-46            No   \n",
       "...                 ...                         ...    ...           ...   \n",
       "41209               NaN                       PIPER  PA-28            No   \n",
       "41210               NaN                    BELLANCA   7ECA            No   \n",
       "41211          Airplane  AMERICAN CHAMPION AIRCRAFT  8GCBC            No   \n",
       "41212               NaN                      CESSNA   210N            No   \n",
       "41213               NaN                       PIPER  PA-24            No   \n",
       "\n",
       "       Number_of_Engines    Engine_Type Purpose_of_flight  \\\n",
       "0                    2.0      Turbo Fan       Positioning   \n",
       "1                    1.0  Reciprocating          Personal   \n",
       "2                    1.0  Reciprocating          Personal   \n",
       "3                    1.0  Reciprocating     Instructional   \n",
       "4                    1.0     Turbo Prop          Personal   \n",
       "...                  ...            ...               ...   \n",
       "41209                NaN            NaN          Personal   \n",
       "41210                NaN            NaN               NaN   \n",
       "41211                1.0            NaN          Personal   \n",
       "41212                NaN            NaN          Personal   \n",
       "41213                NaN            NaN          Personal   \n",
       "\n",
       "       Total_Fatal_Injuries  Total_Serious_Injuries  Total_Minor_Injuries  \\\n",
       "0                       0.0                     0.0                   0.0   \n",
       "1                       2.0                     0.0                   0.0   \n",
       "2                       0.0                     0.0                   0.0   \n",
       "3                       0.0                     0.0                   1.0   \n",
       "4                       0.0                     0.0                   0.0   \n",
       "...                     ...                     ...                   ...   \n",
       "41209                   0.0                     1.0                   0.0   \n",
       "41210                   0.0                     0.0                   0.0   \n",
       "41211                   0.0                     0.0                   0.0   \n",
       "41212                   0.0                     0.0                   0.0   \n",
       "41213                   0.0                     1.0                   0.0   \n",
       "\n",
       "       Total_Uninjured Weather_Condition Broad_phase_of_flight  \n",
       "0                  3.0               VMC                Cruise  \n",
       "1                  0.0               IMC                Cruise  \n",
       "2                  2.0               VMC                Cruise  \n",
       "3                  0.0               VMC                Cruise  \n",
       "4                  5.0               VMC                Cruise  \n",
       "...                ...               ...                   ...  \n",
       "41209              0.0               NaN                   NaN  \n",
       "41210              0.0               NaN                   NaN  \n",
       "41211              1.0               VMC                   NaN  \n",
       "41212              0.0               NaN                   NaN  \n",
       "41213              1.0               NaN                   NaN  \n",
       "\n",
       "[41214 rows x 18 columns]"
      ]
     },
     "execution_count": 3,
     "metadata": {},
     "output_type": "execute_result"
    }
   ],
   "source": [
    "df"
   ]
  },
  {
   "cell_type": "code",
   "execution_count": 4,
   "id": "42c3c6b0",
   "metadata": {},
   "outputs": [
    {
     "data": {
      "text/html": [
       "<div>\n",
       "<style scoped>\n",
       "    .dataframe tbody tr th:only-of-type {\n",
       "        vertical-align: middle;\n",
       "    }\n",
       "\n",
       "    .dataframe tbody tr th {\n",
       "        vertical-align: top;\n",
       "    }\n",
       "\n",
       "    .dataframe thead th {\n",
       "        text-align: right;\n",
       "    }\n",
       "</style>\n",
       "<table border=\"1\" class=\"dataframe\">\n",
       "  <thead>\n",
       "    <tr style=\"text-align: right;\">\n",
       "      <th></th>\n",
       "      <th>Number_of_Engines</th>\n",
       "      <th>Total_Fatal_Injuries</th>\n",
       "      <th>Total_Serious_Injuries</th>\n",
       "      <th>Total_Minor_Injuries</th>\n",
       "      <th>Total_Uninjured</th>\n",
       "    </tr>\n",
       "  </thead>\n",
       "  <tbody>\n",
       "    <tr>\n",
       "      <th>count</th>\n",
       "      <td>36267.000000</td>\n",
       "      <td>30131.000000</td>\n",
       "      <td>29120.000000</td>\n",
       "      <td>29701.000000</td>\n",
       "      <td>35574.000000</td>\n",
       "    </tr>\n",
       "    <tr>\n",
       "      <th>mean</th>\n",
       "      <td>1.138445</td>\n",
       "      <td>0.872457</td>\n",
       "      <td>0.384615</td>\n",
       "      <td>0.352042</td>\n",
       "      <td>6.603053</td>\n",
       "    </tr>\n",
       "    <tr>\n",
       "      <th>std</th>\n",
       "      <td>0.427049</td>\n",
       "      <td>6.552423</td>\n",
       "      <td>2.110729</td>\n",
       "      <td>2.512789</td>\n",
       "      <td>31.325525</td>\n",
       "    </tr>\n",
       "    <tr>\n",
       "      <th>min</th>\n",
       "      <td>0.000000</td>\n",
       "      <td>0.000000</td>\n",
       "      <td>0.000000</td>\n",
       "      <td>0.000000</td>\n",
       "      <td>0.000000</td>\n",
       "    </tr>\n",
       "    <tr>\n",
       "      <th>25%</th>\n",
       "      <td>1.000000</td>\n",
       "      <td>0.000000</td>\n",
       "      <td>0.000000</td>\n",
       "      <td>0.000000</td>\n",
       "      <td>0.000000</td>\n",
       "    </tr>\n",
       "    <tr>\n",
       "      <th>50%</th>\n",
       "      <td>1.000000</td>\n",
       "      <td>0.000000</td>\n",
       "      <td>0.000000</td>\n",
       "      <td>0.000000</td>\n",
       "      <td>1.000000</td>\n",
       "    </tr>\n",
       "    <tr>\n",
       "      <th>75%</th>\n",
       "      <td>1.000000</td>\n",
       "      <td>1.000000</td>\n",
       "      <td>0.000000</td>\n",
       "      <td>0.000000</td>\n",
       "      <td>2.000000</td>\n",
       "    </tr>\n",
       "    <tr>\n",
       "      <th>max</th>\n",
       "      <td>8.000000</td>\n",
       "      <td>295.000000</td>\n",
       "      <td>161.000000</td>\n",
       "      <td>380.000000</td>\n",
       "      <td>576.000000</td>\n",
       "    </tr>\n",
       "  </tbody>\n",
       "</table>\n",
       "</div>"
      ],
      "text/plain": [
       "       Number_of_Engines  Total_Fatal_Injuries  Total_Serious_Injuries  \\\n",
       "count       36267.000000          30131.000000            29120.000000   \n",
       "mean            1.138445              0.872457                0.384615   \n",
       "std             0.427049              6.552423                2.110729   \n",
       "min             0.000000              0.000000                0.000000   \n",
       "25%             1.000000              0.000000                0.000000   \n",
       "50%             1.000000              0.000000                0.000000   \n",
       "75%             1.000000              1.000000                0.000000   \n",
       "max             8.000000            295.000000              161.000000   \n",
       "\n",
       "       Total_Minor_Injuries  Total_Uninjured  \n",
       "count          29701.000000     35574.000000  \n",
       "mean               0.352042         6.603053  \n",
       "std                2.512789        31.325525  \n",
       "min                0.000000         0.000000  \n",
       "25%                0.000000         0.000000  \n",
       "50%                0.000000         1.000000  \n",
       "75%                0.000000         2.000000  \n",
       "max              380.000000       576.000000  "
      ]
     },
     "execution_count": 4,
     "metadata": {},
     "output_type": "execute_result"
    }
   ],
   "source": [
    "df.describe()"
   ]
  },
  {
   "cell_type": "code",
   "execution_count": 5,
   "id": "dfe57c57",
   "metadata": {},
   "outputs": [],
   "source": [
    "df=df.drop('Injury_Severity',axis=1)\n",
    "df=df.drop('Aircraft_damage',axis=1)\n",
    "df=df.drop('Purpose_of_flight',axis=1)\n",
    "df=df.drop('Total_Fatal_Injuries',axis=1)\n",
    "#df=df.drop('Make',axis=1)\n",
    "#df=df.drop('Model',axis=1)\n",
    "#df=df.drop('Total_Uninjured',axis=1)\n",
    "df=df.drop('Broad_phase_of_flight',axis=1)\n",
    "df=df.drop('Latitude',axis=1)\n",
    "df=df.drop('Longitude',axis=1)\n",
    "\n",
    "df=df.drop('Total_Serious_Injuries',axis=1)\n",
    "df=df.drop('Total_Minor_Injuries',axis=1)\n",
    "df=df.drop('Total_Uninjured',axis=1)"
   ]
  },
  {
   "cell_type": "code",
   "execution_count": 6,
   "id": "c86ffc81",
   "metadata": {},
   "outputs": [
    {
     "data": {
      "text/html": [
       "<div>\n",
       "<style scoped>\n",
       "    .dataframe tbody tr th:only-of-type {\n",
       "        vertical-align: middle;\n",
       "    }\n",
       "\n",
       "    .dataframe tbody tr th {\n",
       "        vertical-align: top;\n",
       "    }\n",
       "\n",
       "    .dataframe thead th {\n",
       "        text-align: right;\n",
       "    }\n",
       "</style>\n",
       "<table border=\"1\" class=\"dataframe\">\n",
       "  <thead>\n",
       "    <tr style=\"text-align: right;\">\n",
       "      <th></th>\n",
       "      <th>Investigation_Type</th>\n",
       "      <th>Aircraft_Category</th>\n",
       "      <th>Make</th>\n",
       "      <th>Model</th>\n",
       "      <th>Amateur_Built</th>\n",
       "      <th>Number_of_Engines</th>\n",
       "      <th>Engine_Type</th>\n",
       "      <th>Weather_Condition</th>\n",
       "    </tr>\n",
       "  </thead>\n",
       "  <tbody>\n",
       "    <tr>\n",
       "      <th>0</th>\n",
       "      <td>Accident</td>\n",
       "      <td>NaN</td>\n",
       "      <td>Cessna</td>\n",
       "      <td>550</td>\n",
       "      <td>No</td>\n",
       "      <td>2.0</td>\n",
       "      <td>Turbo Fan</td>\n",
       "      <td>VMC</td>\n",
       "    </tr>\n",
       "    <tr>\n",
       "      <th>1</th>\n",
       "      <td>Accident</td>\n",
       "      <td>NaN</td>\n",
       "      <td>Bellanca</td>\n",
       "      <td>BL-17</td>\n",
       "      <td>No</td>\n",
       "      <td>1.0</td>\n",
       "      <td>Reciprocating</td>\n",
       "      <td>IMC</td>\n",
       "    </tr>\n",
       "    <tr>\n",
       "      <th>2</th>\n",
       "      <td>Accident</td>\n",
       "      <td>NaN</td>\n",
       "      <td>Cessna</td>\n",
       "      <td>172</td>\n",
       "      <td>No</td>\n",
       "      <td>1.0</td>\n",
       "      <td>Reciprocating</td>\n",
       "      <td>VMC</td>\n",
       "    </tr>\n",
       "    <tr>\n",
       "      <th>3</th>\n",
       "      <td>Accident</td>\n",
       "      <td>NaN</td>\n",
       "      <td>Cessna</td>\n",
       "      <td>172</td>\n",
       "      <td>No</td>\n",
       "      <td>1.0</td>\n",
       "      <td>Reciprocating</td>\n",
       "      <td>VMC</td>\n",
       "    </tr>\n",
       "    <tr>\n",
       "      <th>4</th>\n",
       "      <td>Accident</td>\n",
       "      <td>NaN</td>\n",
       "      <td>Piper</td>\n",
       "      <td>PA-46</td>\n",
       "      <td>No</td>\n",
       "      <td>1.0</td>\n",
       "      <td>Turbo Prop</td>\n",
       "      <td>VMC</td>\n",
       "    </tr>\n",
       "    <tr>\n",
       "      <th>...</th>\n",
       "      <td>...</td>\n",
       "      <td>...</td>\n",
       "      <td>...</td>\n",
       "      <td>...</td>\n",
       "      <td>...</td>\n",
       "      <td>...</td>\n",
       "      <td>...</td>\n",
       "      <td>...</td>\n",
       "    </tr>\n",
       "    <tr>\n",
       "      <th>41209</th>\n",
       "      <td>Accident</td>\n",
       "      <td>NaN</td>\n",
       "      <td>PIPER</td>\n",
       "      <td>PA-28</td>\n",
       "      <td>No</td>\n",
       "      <td>NaN</td>\n",
       "      <td>NaN</td>\n",
       "      <td>NaN</td>\n",
       "    </tr>\n",
       "    <tr>\n",
       "      <th>41210</th>\n",
       "      <td>Accident</td>\n",
       "      <td>NaN</td>\n",
       "      <td>BELLANCA</td>\n",
       "      <td>7ECA</td>\n",
       "      <td>No</td>\n",
       "      <td>NaN</td>\n",
       "      <td>NaN</td>\n",
       "      <td>NaN</td>\n",
       "    </tr>\n",
       "    <tr>\n",
       "      <th>41211</th>\n",
       "      <td>Accident</td>\n",
       "      <td>Airplane</td>\n",
       "      <td>AMERICAN CHAMPION AIRCRAFT</td>\n",
       "      <td>8GCBC</td>\n",
       "      <td>No</td>\n",
       "      <td>1.0</td>\n",
       "      <td>NaN</td>\n",
       "      <td>VMC</td>\n",
       "    </tr>\n",
       "    <tr>\n",
       "      <th>41212</th>\n",
       "      <td>Accident</td>\n",
       "      <td>NaN</td>\n",
       "      <td>CESSNA</td>\n",
       "      <td>210N</td>\n",
       "      <td>No</td>\n",
       "      <td>NaN</td>\n",
       "      <td>NaN</td>\n",
       "      <td>NaN</td>\n",
       "    </tr>\n",
       "    <tr>\n",
       "      <th>41213</th>\n",
       "      <td>Accident</td>\n",
       "      <td>NaN</td>\n",
       "      <td>PIPER</td>\n",
       "      <td>PA-24</td>\n",
       "      <td>No</td>\n",
       "      <td>NaN</td>\n",
       "      <td>NaN</td>\n",
       "      <td>NaN</td>\n",
       "    </tr>\n",
       "  </tbody>\n",
       "</table>\n",
       "<p>41214 rows × 8 columns</p>\n",
       "</div>"
      ],
      "text/plain": [
       "      Investigation_Type Aircraft_Category                        Make  Model  \\\n",
       "0               Accident               NaN                      Cessna    550   \n",
       "1               Accident               NaN                    Bellanca  BL-17   \n",
       "2               Accident               NaN                      Cessna    172   \n",
       "3               Accident               NaN                      Cessna    172   \n",
       "4               Accident               NaN                       Piper  PA-46   \n",
       "...                  ...               ...                         ...    ...   \n",
       "41209           Accident               NaN                       PIPER  PA-28   \n",
       "41210           Accident               NaN                    BELLANCA   7ECA   \n",
       "41211           Accident          Airplane  AMERICAN CHAMPION AIRCRAFT  8GCBC   \n",
       "41212           Accident               NaN                      CESSNA   210N   \n",
       "41213           Accident               NaN                       PIPER  PA-24   \n",
       "\n",
       "      Amateur_Built  Number_of_Engines    Engine_Type Weather_Condition  \n",
       "0                No                2.0      Turbo Fan               VMC  \n",
       "1                No                1.0  Reciprocating               IMC  \n",
       "2                No                1.0  Reciprocating               VMC  \n",
       "3                No                1.0  Reciprocating               VMC  \n",
       "4                No                1.0     Turbo Prop               VMC  \n",
       "...             ...                ...            ...               ...  \n",
       "41209            No                NaN            NaN               NaN  \n",
       "41210            No                NaN            NaN               NaN  \n",
       "41211            No                1.0            NaN               VMC  \n",
       "41212            No                NaN            NaN               NaN  \n",
       "41213            No                NaN            NaN               NaN  \n",
       "\n",
       "[41214 rows x 8 columns]"
      ]
     },
     "execution_count": 6,
     "metadata": {},
     "output_type": "execute_result"
    }
   ],
   "source": [
    "df"
   ]
  },
  {
   "cell_type": "code",
   "execution_count": 7,
   "id": "9b0a11df",
   "metadata": {},
   "outputs": [],
   "source": [
    "from sklearn.preprocessing import LabelEncoder\n",
    "label_encoder = LabelEncoder()\n",
    "df['Investigation_Type']=label_encoder.fit_transform(df['Investigation_Type'])\n",
    "# df['Aircraft_damage']=label_encoder.fit_transform(df['Aircraft_damage'])\n",
    "# df['Aircraft_Category']=label_encoder.fit_transform(df['Aircraft_Category'])\n",
    "# df['Amateur_Built']=label_encoder.fit_transform(df['Amateur_Built'])\n",
    "# df['Engine_Type']=label_encoder.fit_transform(df['Engine_Type'])\n",
    "# df['Weather_Condition']=label_encoder.fit_transform(df['Weather_Condition'])\n",
    "# df['Make']=label_encoder.fit_transform(df['Make'])\n",
    "# df['Model']=label_encoder.fit_transform(df['Model'])"
   ]
  },
  {
   "cell_type": "code",
   "execution_count": null,
   "id": "6310f8ac",
   "metadata": {},
   "outputs": [],
   "source": []
  },
  {
   "cell_type": "code",
   "execution_count": 8,
   "id": "44305ee7",
   "metadata": {
    "scrolled": true
   },
   "outputs": [
    {
     "data": {
      "text/html": [
       "<div>\n",
       "<style scoped>\n",
       "    .dataframe tbody tr th:only-of-type {\n",
       "        vertical-align: middle;\n",
       "    }\n",
       "\n",
       "    .dataframe tbody tr th {\n",
       "        vertical-align: top;\n",
       "    }\n",
       "\n",
       "    .dataframe thead th {\n",
       "        text-align: right;\n",
       "    }\n",
       "</style>\n",
       "<table border=\"1\" class=\"dataframe\">\n",
       "  <thead>\n",
       "    <tr style=\"text-align: right;\">\n",
       "      <th></th>\n",
       "      <th>Investigation_Type</th>\n",
       "      <th>Number_of_Engines</th>\n",
       "    </tr>\n",
       "  </thead>\n",
       "  <tbody>\n",
       "    <tr>\n",
       "      <th>count</th>\n",
       "      <td>41214.000000</td>\n",
       "      <td>36267.000000</td>\n",
       "    </tr>\n",
       "    <tr>\n",
       "      <th>mean</th>\n",
       "      <td>0.055758</td>\n",
       "      <td>1.138445</td>\n",
       "    </tr>\n",
       "    <tr>\n",
       "      <th>std</th>\n",
       "      <td>0.229456</td>\n",
       "      <td>0.427049</td>\n",
       "    </tr>\n",
       "    <tr>\n",
       "      <th>min</th>\n",
       "      <td>0.000000</td>\n",
       "      <td>0.000000</td>\n",
       "    </tr>\n",
       "    <tr>\n",
       "      <th>25%</th>\n",
       "      <td>0.000000</td>\n",
       "      <td>1.000000</td>\n",
       "    </tr>\n",
       "    <tr>\n",
       "      <th>50%</th>\n",
       "      <td>0.000000</td>\n",
       "      <td>1.000000</td>\n",
       "    </tr>\n",
       "    <tr>\n",
       "      <th>75%</th>\n",
       "      <td>0.000000</td>\n",
       "      <td>1.000000</td>\n",
       "    </tr>\n",
       "    <tr>\n",
       "      <th>max</th>\n",
       "      <td>1.000000</td>\n",
       "      <td>8.000000</td>\n",
       "    </tr>\n",
       "  </tbody>\n",
       "</table>\n",
       "</div>"
      ],
      "text/plain": [
       "       Investigation_Type  Number_of_Engines\n",
       "count        41214.000000       36267.000000\n",
       "mean             0.055758           1.138445\n",
       "std              0.229456           0.427049\n",
       "min              0.000000           0.000000\n",
       "25%              0.000000           1.000000\n",
       "50%              0.000000           1.000000\n",
       "75%              0.000000           1.000000\n",
       "max              1.000000           8.000000"
      ]
     },
     "execution_count": 8,
     "metadata": {},
     "output_type": "execute_result"
    }
   ],
   "source": [
    "df.describe()"
   ]
  },
  {
   "cell_type": "code",
   "execution_count": 9,
   "id": "2925970d",
   "metadata": {},
   "outputs": [
    {
     "data": {
      "text/plain": [
       "Investigation_Type       0\n",
       "Aircraft_Category      718\n",
       "Make                    27\n",
       "Model                   32\n",
       "Amateur_Built           44\n",
       "Number_of_Engines     1103\n",
       "Engine_Type           1232\n",
       "Weather_Condition     1354\n",
       "dtype: int64"
      ]
     },
     "execution_count": 9,
     "metadata": {},
     "output_type": "execute_result"
    }
   ],
   "source": [
    "count_class_0, count_class_1 = df.Investigation_Type.value_counts()\n",
    "df_class_0 = df[df['Investigation_Type']==0]\n",
    "df_class_1 = df[df['Investigation_Type']==1]\n",
    "df_class_0 = df_class_0.dropna()\n",
    "df_class_1.isnull().sum()"
   ]
  },
  {
   "cell_type": "code",
   "execution_count": 10,
   "id": "7f64a864",
   "metadata": {},
   "outputs": [
    {
     "data": {
      "text/plain": [
       "(2298, 8)"
      ]
     },
     "execution_count": 10,
     "metadata": {},
     "output_type": "execute_result"
    }
   ],
   "source": [
    "df_class_1.shape"
   ]
  },
  {
   "cell_type": "code",
   "execution_count": 11,
   "id": "bbd518ac",
   "metadata": {},
   "outputs": [
    {
     "data": {
      "text/html": [
       "<div>\n",
       "<style scoped>\n",
       "    .dataframe tbody tr th:only-of-type {\n",
       "        vertical-align: middle;\n",
       "    }\n",
       "\n",
       "    .dataframe tbody tr th {\n",
       "        vertical-align: top;\n",
       "    }\n",
       "\n",
       "    .dataframe thead th {\n",
       "        text-align: right;\n",
       "    }\n",
       "</style>\n",
       "<table border=\"1\" class=\"dataframe\">\n",
       "  <thead>\n",
       "    <tr style=\"text-align: right;\">\n",
       "      <th></th>\n",
       "      <th>Investigation_Type</th>\n",
       "      <th>Aircraft_Category</th>\n",
       "      <th>Make</th>\n",
       "      <th>Model</th>\n",
       "      <th>Amateur_Built</th>\n",
       "      <th>Number_of_Engines</th>\n",
       "      <th>Engine_Type</th>\n",
       "      <th>Weather_Condition</th>\n",
       "    </tr>\n",
       "  </thead>\n",
       "  <tbody>\n",
       "    <tr>\n",
       "      <th>68</th>\n",
       "      <td>0</td>\n",
       "      <td>Airplane</td>\n",
       "      <td>Myers</td>\n",
       "      <td>Q-2</td>\n",
       "      <td>Yes</td>\n",
       "      <td>1.0</td>\n",
       "      <td>Reciprocating</td>\n",
       "      <td>VMC</td>\n",
       "    </tr>\n",
       "    <tr>\n",
       "      <th>189</th>\n",
       "      <td>0</td>\n",
       "      <td>Airplane</td>\n",
       "      <td>Cessna</td>\n",
       "      <td>208B</td>\n",
       "      <td>No</td>\n",
       "      <td>1.0</td>\n",
       "      <td>Turbo Prop</td>\n",
       "      <td>VMC</td>\n",
       "    </tr>\n",
       "    <tr>\n",
       "      <th>194</th>\n",
       "      <td>0</td>\n",
       "      <td>Airplane</td>\n",
       "      <td>Cessna</td>\n",
       "      <td>182M</td>\n",
       "      <td>No</td>\n",
       "      <td>1.0</td>\n",
       "      <td>Reciprocating</td>\n",
       "      <td>VMC</td>\n",
       "    </tr>\n",
       "    <tr>\n",
       "      <th>195</th>\n",
       "      <td>0</td>\n",
       "      <td>Airplane</td>\n",
       "      <td>Douglas</td>\n",
       "      <td>DC-8-71F</td>\n",
       "      <td>No</td>\n",
       "      <td>4.0</td>\n",
       "      <td>Turbo Fan</td>\n",
       "      <td>VMC</td>\n",
       "    </tr>\n",
       "    <tr>\n",
       "      <th>229</th>\n",
       "      <td>0</td>\n",
       "      <td>Helicopter</td>\n",
       "      <td>Bell</td>\n",
       "      <td>412</td>\n",
       "      <td>No</td>\n",
       "      <td>2.0</td>\n",
       "      <td>Turbo Shaft</td>\n",
       "      <td>VMC</td>\n",
       "    </tr>\n",
       "    <tr>\n",
       "      <th>...</th>\n",
       "      <td>...</td>\n",
       "      <td>...</td>\n",
       "      <td>...</td>\n",
       "      <td>...</td>\n",
       "      <td>...</td>\n",
       "      <td>...</td>\n",
       "      <td>...</td>\n",
       "      <td>...</td>\n",
       "    </tr>\n",
       "    <tr>\n",
       "      <th>40964</th>\n",
       "      <td>0</td>\n",
       "      <td>Airplane</td>\n",
       "      <td>CESSNA</td>\n",
       "      <td>150</td>\n",
       "      <td>No</td>\n",
       "      <td>1.0</td>\n",
       "      <td>Reciprocating</td>\n",
       "      <td>VMC</td>\n",
       "    </tr>\n",
       "    <tr>\n",
       "      <th>40972</th>\n",
       "      <td>0</td>\n",
       "      <td>Airplane</td>\n",
       "      <td>CESSNA</td>\n",
       "      <td>177RG</td>\n",
       "      <td>No</td>\n",
       "      <td>1.0</td>\n",
       "      <td>Reciprocating</td>\n",
       "      <td>VMC</td>\n",
       "    </tr>\n",
       "    <tr>\n",
       "      <th>40986</th>\n",
       "      <td>0</td>\n",
       "      <td>Airplane</td>\n",
       "      <td>BEECH</td>\n",
       "      <td>B-60</td>\n",
       "      <td>No</td>\n",
       "      <td>2.0</td>\n",
       "      <td>Reciprocating</td>\n",
       "      <td>VMC</td>\n",
       "    </tr>\n",
       "    <tr>\n",
       "      <th>41060</th>\n",
       "      <td>0</td>\n",
       "      <td>Airplane</td>\n",
       "      <td>STEPHEN J HOFFMAN</td>\n",
       "      <td>MS-500</td>\n",
       "      <td>Yes</td>\n",
       "      <td>1.0</td>\n",
       "      <td>Reciprocating</td>\n",
       "      <td>VMC</td>\n",
       "    </tr>\n",
       "    <tr>\n",
       "      <th>41092</th>\n",
       "      <td>0</td>\n",
       "      <td>Airplane</td>\n",
       "      <td>LUSCOMBE</td>\n",
       "      <td>8E</td>\n",
       "      <td>No</td>\n",
       "      <td>1.0</td>\n",
       "      <td>Reciprocating</td>\n",
       "      <td>VMC</td>\n",
       "    </tr>\n",
       "  </tbody>\n",
       "</table>\n",
       "<p>21086 rows × 8 columns</p>\n",
       "</div>"
      ],
      "text/plain": [
       "       Investigation_Type Aircraft_Category               Make     Model  \\\n",
       "68                      0          Airplane              Myers       Q-2   \n",
       "189                     0          Airplane             Cessna      208B   \n",
       "194                     0          Airplane             Cessna      182M   \n",
       "195                     0          Airplane            Douglas  DC-8-71F   \n",
       "229                     0        Helicopter               Bell       412   \n",
       "...                   ...               ...                ...       ...   \n",
       "40964                   0          Airplane             CESSNA       150   \n",
       "40972                   0          Airplane             CESSNA     177RG   \n",
       "40986                   0          Airplane              BEECH      B-60   \n",
       "41060                   0          Airplane  STEPHEN J HOFFMAN    MS-500   \n",
       "41092                   0          Airplane           LUSCOMBE        8E   \n",
       "\n",
       "      Amateur_Built  Number_of_Engines    Engine_Type Weather_Condition  \n",
       "68              Yes                1.0  Reciprocating               VMC  \n",
       "189              No                1.0     Turbo Prop               VMC  \n",
       "194              No                1.0  Reciprocating               VMC  \n",
       "195              No                4.0      Turbo Fan               VMC  \n",
       "229              No                2.0    Turbo Shaft               VMC  \n",
       "...             ...                ...            ...               ...  \n",
       "40964            No                1.0  Reciprocating               VMC  \n",
       "40972            No                1.0  Reciprocating               VMC  \n",
       "40986            No                2.0  Reciprocating               VMC  \n",
       "41060           Yes                1.0  Reciprocating               VMC  \n",
       "41092            No                1.0  Reciprocating               VMC  \n",
       "\n",
       "[21086 rows x 8 columns]"
      ]
     },
     "execution_count": 11,
     "metadata": {},
     "output_type": "execute_result"
    }
   ],
   "source": [
    "df_class_0"
   ]
  },
  {
   "cell_type": "code",
   "execution_count": 12,
   "id": "683c5052",
   "metadata": {},
   "outputs": [
    {
     "data": {
      "text/plain": [
       "(21086, 8)"
      ]
     },
     "execution_count": 12,
     "metadata": {},
     "output_type": "execute_result"
    }
   ],
   "source": [
    "df_class_0.shape"
   ]
  },
  {
   "cell_type": "code",
   "execution_count": 13,
   "id": "9cab990d",
   "metadata": {},
   "outputs": [
    {
     "data": {
      "text/html": [
       "<div>\n",
       "<style scoped>\n",
       "    .dataframe tbody tr th:only-of-type {\n",
       "        vertical-align: middle;\n",
       "    }\n",
       "\n",
       "    .dataframe tbody tr th {\n",
       "        vertical-align: top;\n",
       "    }\n",
       "\n",
       "    .dataframe thead th {\n",
       "        text-align: right;\n",
       "    }\n",
       "</style>\n",
       "<table border=\"1\" class=\"dataframe\">\n",
       "  <thead>\n",
       "    <tr style=\"text-align: right;\">\n",
       "      <th></th>\n",
       "      <th>Investigation_Type</th>\n",
       "      <th>Aircraft_Category</th>\n",
       "      <th>Make</th>\n",
       "      <th>Model</th>\n",
       "      <th>Amateur_Built</th>\n",
       "      <th>Number_of_Engines</th>\n",
       "      <th>Engine_Type</th>\n",
       "      <th>Weather_Condition</th>\n",
       "    </tr>\n",
       "  </thead>\n",
       "  <tbody>\n",
       "    <tr>\n",
       "      <th>7</th>\n",
       "      <td>1</td>\n",
       "      <td>Airplane</td>\n",
       "      <td>Boeing</td>\n",
       "      <td>737</td>\n",
       "      <td>No</td>\n",
       "      <td>NaN</td>\n",
       "      <td>Unknown</td>\n",
       "      <td>UNK</td>\n",
       "    </tr>\n",
       "    <tr>\n",
       "      <th>71</th>\n",
       "      <td>1</td>\n",
       "      <td>NaN</td>\n",
       "      <td>British Aerospace</td>\n",
       "      <td>JETSTREAM 3101</td>\n",
       "      <td>No</td>\n",
       "      <td>2.0</td>\n",
       "      <td>Turbo Prop</td>\n",
       "      <td>VMC</td>\n",
       "    </tr>\n",
       "    <tr>\n",
       "      <th>108</th>\n",
       "      <td>1</td>\n",
       "      <td>NaN</td>\n",
       "      <td>Mcdonnell Douglas</td>\n",
       "      <td>DC9-32</td>\n",
       "      <td>No</td>\n",
       "      <td>2.0</td>\n",
       "      <td>Turbo Fan</td>\n",
       "      <td>UNK</td>\n",
       "    </tr>\n",
       "    <tr>\n",
       "      <th>156</th>\n",
       "      <td>1</td>\n",
       "      <td>NaN</td>\n",
       "      <td>Cessna</td>\n",
       "      <td>182P</td>\n",
       "      <td>No</td>\n",
       "      <td>1.0</td>\n",
       "      <td>Reciprocating</td>\n",
       "      <td>VMC</td>\n",
       "    </tr>\n",
       "    <tr>\n",
       "      <th>169</th>\n",
       "      <td>1</td>\n",
       "      <td>NaN</td>\n",
       "      <td>Saab-scania Ab (saab)</td>\n",
       "      <td>340</td>\n",
       "      <td>No</td>\n",
       "      <td>2.0</td>\n",
       "      <td>Turbo Prop</td>\n",
       "      <td>VMC</td>\n",
       "    </tr>\n",
       "    <tr>\n",
       "      <th>...</th>\n",
       "      <td>...</td>\n",
       "      <td>...</td>\n",
       "      <td>...</td>\n",
       "      <td>...</td>\n",
       "      <td>...</td>\n",
       "      <td>...</td>\n",
       "      <td>...</td>\n",
       "      <td>...</td>\n",
       "    </tr>\n",
       "    <tr>\n",
       "      <th>41134</th>\n",
       "      <td>1</td>\n",
       "      <td>NaN</td>\n",
       "      <td>BOEING</td>\n",
       "      <td>737</td>\n",
       "      <td>No</td>\n",
       "      <td>NaN</td>\n",
       "      <td>NaN</td>\n",
       "      <td>NaN</td>\n",
       "    </tr>\n",
       "    <tr>\n",
       "      <th>41144</th>\n",
       "      <td>1</td>\n",
       "      <td>NaN</td>\n",
       "      <td>BOEING</td>\n",
       "      <td>737</td>\n",
       "      <td>No</td>\n",
       "      <td>NaN</td>\n",
       "      <td>NaN</td>\n",
       "      <td>NaN</td>\n",
       "    </tr>\n",
       "    <tr>\n",
       "      <th>41146</th>\n",
       "      <td>1</td>\n",
       "      <td>NaN</td>\n",
       "      <td>BOEING</td>\n",
       "      <td>737</td>\n",
       "      <td>No</td>\n",
       "      <td>NaN</td>\n",
       "      <td>NaN</td>\n",
       "      <td>NaN</td>\n",
       "    </tr>\n",
       "    <tr>\n",
       "      <th>41151</th>\n",
       "      <td>1</td>\n",
       "      <td>NaN</td>\n",
       "      <td>BOEING</td>\n",
       "      <td>737</td>\n",
       "      <td>No</td>\n",
       "      <td>NaN</td>\n",
       "      <td>NaN</td>\n",
       "      <td>NaN</td>\n",
       "    </tr>\n",
       "    <tr>\n",
       "      <th>41176</th>\n",
       "      <td>1</td>\n",
       "      <td>NaN</td>\n",
       "      <td>BOEING</td>\n",
       "      <td>737</td>\n",
       "      <td>No</td>\n",
       "      <td>NaN</td>\n",
       "      <td>NaN</td>\n",
       "      <td>NaN</td>\n",
       "    </tr>\n",
       "  </tbody>\n",
       "</table>\n",
       "<p>2298 rows × 8 columns</p>\n",
       "</div>"
      ],
      "text/plain": [
       "       Investigation_Type Aircraft_Category                   Make  \\\n",
       "7                       1          Airplane                 Boeing   \n",
       "71                      1               NaN      British Aerospace   \n",
       "108                     1               NaN      Mcdonnell Douglas   \n",
       "156                     1               NaN                 Cessna   \n",
       "169                     1               NaN  Saab-scania Ab (saab)   \n",
       "...                   ...               ...                    ...   \n",
       "41134                   1               NaN                 BOEING   \n",
       "41144                   1               NaN                 BOEING   \n",
       "41146                   1               NaN                 BOEING   \n",
       "41151                   1               NaN                 BOEING   \n",
       "41176                   1               NaN                 BOEING   \n",
       "\n",
       "                Model Amateur_Built  Number_of_Engines    Engine_Type  \\\n",
       "7                 737            No                NaN        Unknown   \n",
       "71     JETSTREAM 3101            No                2.0     Turbo Prop   \n",
       "108            DC9-32            No                2.0      Turbo Fan   \n",
       "156              182P            No                1.0  Reciprocating   \n",
       "169               340            No                2.0     Turbo Prop   \n",
       "...               ...           ...                ...            ...   \n",
       "41134             737            No                NaN            NaN   \n",
       "41144             737            No                NaN            NaN   \n",
       "41146             737            No                NaN            NaN   \n",
       "41151             737            No                NaN            NaN   \n",
       "41176             737            No                NaN            NaN   \n",
       "\n",
       "      Weather_Condition  \n",
       "7                   UNK  \n",
       "71                  VMC  \n",
       "108                 UNK  \n",
       "156                 VMC  \n",
       "169                 VMC  \n",
       "...                 ...  \n",
       "41134               NaN  \n",
       "41144               NaN  \n",
       "41146               NaN  \n",
       "41151               NaN  \n",
       "41176               NaN  \n",
       "\n",
       "[2298 rows x 8 columns]"
      ]
     },
     "execution_count": 13,
     "metadata": {},
     "output_type": "execute_result"
    }
   ],
   "source": [
    "df_class_1"
   ]
  },
  {
   "cell_type": "code",
   "execution_count": null,
   "id": "37320405",
   "metadata": {},
   "outputs": [],
   "source": []
  },
  {
   "cell_type": "code",
   "execution_count": 14,
   "id": "0283e7ca",
   "metadata": {},
   "outputs": [],
   "source": [
    "#count_class_Aircraft_damage"
   ]
  },
  {
   "cell_type": "code",
   "execution_count": 15,
   "id": "725dc628",
   "metadata": {},
   "outputs": [],
   "source": [
    "#label_encoder = LabelEncoder()"
   ]
  },
  {
   "cell_type": "code",
   "execution_count": 16,
   "id": "d09d14dc",
   "metadata": {},
   "outputs": [],
   "source": [
    "#df_class_1['Aircraft_damage']=label_encoder.fit_transform(df_class_1['Aircraft_damage'])"
   ]
  },
  {
   "cell_type": "code",
   "execution_count": 17,
   "id": "f833f30a",
   "metadata": {},
   "outputs": [],
   "source": [
    "# tips = sns.load_dataset(\"df_class_0\")\n",
    "\n",
    "# plt.hist(df_class_1[\"Aircraft_Category\"])"
   ]
  },
  {
   "cell_type": "code",
   "execution_count": 18,
   "id": "fc552784",
   "metadata": {},
   "outputs": [],
   "source": [
    "# sns.catplot(data=df, x=\"Make\", y=\"Investigation_Type\")"
   ]
  },
  {
   "cell_type": "code",
   "execution_count": 19,
   "id": "ddc18e17",
   "metadata": {},
   "outputs": [],
   "source": [
    "# plt.hist(df_class_1[\"Amateur_Built\"])"
   ]
  },
  {
   "cell_type": "code",
   "execution_count": 20,
   "id": "22163649",
   "metadata": {},
   "outputs": [
    {
     "data": {
      "text/plain": [
       "(array([  2.,   0., 248.,   0.,   0., 839.,   0.,  33.,   0.,  73.]),\n",
       " array([0. , 0.4, 0.8, 1.2, 1.6, 2. , 2.4, 2.8, 3.2, 3.6, 4. ]),\n",
       " <BarContainer object of 10 artists>)"
      ]
     },
     "execution_count": 20,
     "metadata": {},
     "output_type": "execute_result"
    },
    {
     "data": {
      "image/png": "[encoded data removed]",
      "text/plain": [
       "<Figure size 640x480 with 1 Axes>"
      ]
     },
     "metadata": {},
     "output_type": "display_data"
    }
   ],
   "source": [
    "plt.hist(df_class_1[\"Number_of_Engines\"])"
   ]
  },
  {
   "cell_type": "code",
   "execution_count": 21,
   "id": "e4fa16a4",
   "metadata": {},
   "outputs": [],
   "source": [
    "# plt.hist(df_class_1[\"Engine_Type\"])"
   ]
  },
  {
   "cell_type": "code",
   "execution_count": 22,
   "id": "dee4c000",
   "metadata": {},
   "outputs": [],
   "source": [
    "# plt.hist(df_class_1[\"Total_Serious_Injuries\"])"
   ]
  },
  {
   "cell_type": "code",
   "execution_count": 23,
   "id": "006c6789",
   "metadata": {},
   "outputs": [],
   "source": [
    "# plt.hist(df_class_1[\"Total_Minor_Injuries\"])"
   ]
  },
  {
   "cell_type": "code",
   "execution_count": 24,
   "id": "b5a029b2",
   "metadata": {},
   "outputs": [],
   "source": [
    "# plt.hist(df_class_1[\"Total_Uninjured\"])"
   ]
  },
  {
   "cell_type": "code",
   "execution_count": 25,
   "id": "b49a7c0a",
   "metadata": {},
   "outputs": [],
   "source": [
    "# plt.hist(df_class_1[\"Weather_Condition\"])"
   ]
  },
  {
   "cell_type": "code",
   "execution_count": 26,
   "id": "2e97ee7e",
   "metadata": {},
   "outputs": [
    {
     "name": "stderr",
     "output_type": "stream",
     "text": [
      "C:\\Users\\Asus\\AppData\\Local\\Temp\\ipykernel_13256\\3481210078.py:7: SettingWithCopyWarning: \n",
      "A value is trying to be set on a copy of a slice from a DataFrame.\n",
      "Try using .loc[row_indexer,col_indexer] = value instead\n",
      "\n",
      "See the caveats in the documentation: https://pandas.pydata.org/pandas-docs/stable/user_guide/indexing.html#returning-a-view-versus-a-copy\n",
      "  df_class_1['Aircraft_Category'] = imputer_Aircraft_Category.transform(df_class_1[['Aircraft_Category']])\n"
     ]
    }
   ],
   "source": [
    "from sklearn.impute import SimpleImputer\n",
    "\n",
    "imputer_median = SimpleImputer(strategy='median', missing_values=np.nan)\n",
    "imputer_mode = SimpleImputer(strategy='most_frequent', missing_values=np.nan)\n",
    "#imputer1 = SimpleImputer(strategy='mean', missing_values=np.nan)\n",
    "imputer_Aircraft_Category = imputer_mode.fit(df[['Aircraft_Category']])\n",
    "df_class_1['Aircraft_Category'] = imputer_Aircraft_Category.transform(df_class_1[['Aircraft_Category']])"
   ]
  },
  {
   "cell_type": "code",
   "execution_count": 27,
   "id": "95b4b708",
   "metadata": {},
   "outputs": [
    {
     "name": "stderr",
     "output_type": "stream",
     "text": [
      "C:\\Users\\Asus\\AppData\\Local\\Temp\\ipykernel_13256\\2296636782.py:2: SettingWithCopyWarning: \n",
      "A value is trying to be set on a copy of a slice from a DataFrame.\n",
      "Try using .loc[row_indexer,col_indexer] = value instead\n",
      "\n",
      "See the caveats in the documentation: https://pandas.pydata.org/pandas-docs/stable/user_guide/indexing.html#returning-a-view-versus-a-copy\n",
      "  df_class_1['Amateur_Built'] = imputer_Amateur_Built.transform(df_class_1[['Amateur_Built']])\n"
     ]
    }
   ],
   "source": [
    "imputer_Amateur_Built = imputer_mode.fit(df[['Amateur_Built']])\n",
    "df_class_1['Amateur_Built'] = imputer_Amateur_Built.transform(df_class_1[['Amateur_Built']])"
   ]
  },
  {
   "cell_type": "code",
   "execution_count": 28,
   "id": "e8bec6b9",
   "metadata": {},
   "outputs": [
    {
     "name": "stderr",
     "output_type": "stream",
     "text": [
      "C:\\Users\\Asus\\AppData\\Local\\Temp\\ipykernel_13256\\2177743708.py:3: SettingWithCopyWarning: \n",
      "A value is trying to be set on a copy of a slice from a DataFrame.\n",
      "Try using .loc[row_indexer,col_indexer] = value instead\n",
      "\n",
      "See the caveats in the documentation: https://pandas.pydata.org/pandas-docs/stable/user_guide/indexing.html#returning-a-view-versus-a-copy\n",
      "  df_class_1['Number_of_Engines'] = imputer_Number_of_Engines.transform(df_class_1[['Number_of_Engines']])\n"
     ]
    }
   ],
   "source": [
    "imputer_median2 = SimpleImputer(strategy='median', missing_values=np.nan)\n",
    "imputer_Number_of_Engines = imputer_median2.fit(df[['Number_of_Engines']])\n",
    "df_class_1['Number_of_Engines'] = imputer_Number_of_Engines.transform(df_class_1[['Number_of_Engines']])"
   ]
  },
  {
   "cell_type": "code",
   "execution_count": 29,
   "id": "13d61bd6",
   "metadata": {},
   "outputs": [
    {
     "name": "stderr",
     "output_type": "stream",
     "text": [
      "C:\\Users\\Asus\\AppData\\Local\\Temp\\ipykernel_13256\\3636744334.py:2: SettingWithCopyWarning: \n",
      "A value is trying to be set on a copy of a slice from a DataFrame.\n",
      "Try using .loc[row_indexer,col_indexer] = value instead\n",
      "\n",
      "See the caveats in the documentation: https://pandas.pydata.org/pandas-docs/stable/user_guide/indexing.html#returning-a-view-versus-a-copy\n",
      "  df_class_1['Make'] = imputer_Total_Serious_Injuries.transform(df_class_1[['Make']])\n"
     ]
    }
   ],
   "source": [
    "imputer_Total_Serious_Injuries = imputer_mode.fit(df[['Make']])\n",
    "df_class_1['Make'] = imputer_Total_Serious_Injuries.transform(df_class_1[['Make']])"
   ]
  },
  {
   "cell_type": "code",
   "execution_count": 30,
   "id": "1a368762",
   "metadata": {},
   "outputs": [
    {
     "name": "stderr",
     "output_type": "stream",
     "text": [
      "C:\\Users\\Asus\\AppData\\Local\\Temp\\ipykernel_13256\\1318717325.py:2: SettingWithCopyWarning: \n",
      "A value is trying to be set on a copy of a slice from a DataFrame.\n",
      "Try using .loc[row_indexer,col_indexer] = value instead\n",
      "\n",
      "See the caveats in the documentation: https://pandas.pydata.org/pandas-docs/stable/user_guide/indexing.html#returning-a-view-versus-a-copy\n",
      "  df_class_1['Model'] = imputer_Total_Minor_Injuries.transform(df_class_1[['Model']])\n"
     ]
    }
   ],
   "source": [
    "imputer_Total_Minor_Injuries = imputer_mode.fit(df[['Model']])\n",
    "df_class_1['Model'] = imputer_Total_Minor_Injuries.transform(df_class_1[['Model']])"
   ]
  },
  {
   "cell_type": "code",
   "execution_count": 31,
   "id": "44b6ce99",
   "metadata": {},
   "outputs": [
    {
     "name": "stderr",
     "output_type": "stream",
     "text": [
      "C:\\Users\\Asus\\AppData\\Local\\Temp\\ipykernel_13256\\4093362273.py:2: SettingWithCopyWarning: \n",
      "A value is trying to be set on a copy of a slice from a DataFrame.\n",
      "Try using .loc[row_indexer,col_indexer] = value instead\n",
      "\n",
      "See the caveats in the documentation: https://pandas.pydata.org/pandas-docs/stable/user_guide/indexing.html#returning-a-view-versus-a-copy\n",
      "  df_class_1['Engine_Type'] = imputer_Total_Uninjured.transform(df_class_1[['Engine_Type']])\n"
     ]
    }
   ],
   "source": [
    "imputer_Total_Uninjured = imputer_mode.fit(df[['Engine_Type']])\n",
    "df_class_1['Engine_Type'] = imputer_Total_Uninjured.transform(df_class_1[['Engine_Type']])"
   ]
  },
  {
   "cell_type": "code",
   "execution_count": 32,
   "id": "7337083f",
   "metadata": {},
   "outputs": [
    {
     "name": "stderr",
     "output_type": "stream",
     "text": [
      "C:\\Users\\Asus\\AppData\\Local\\Temp\\ipykernel_13256\\550646963.py:2: SettingWithCopyWarning: \n",
      "A value is trying to be set on a copy of a slice from a DataFrame.\n",
      "Try using .loc[row_indexer,col_indexer] = value instead\n",
      "\n",
      "See the caveats in the documentation: https://pandas.pydata.org/pandas-docs/stable/user_guide/indexing.html#returning-a-view-versus-a-copy\n",
      "  df_class_1['Weather_Condition'] = imputer_Weather_Condition.transform(df_class_1[['Weather_Condition']])\n"
     ]
    }
   ],
   "source": [
    "imputer_Weather_Condition = imputer_mode.fit(df[['Weather_Condition']])\n",
    "df_class_1['Weather_Condition'] = imputer_Weather_Condition.transform(df_class_1[['Weather_Condition']])"
   ]
  },
  {
   "cell_type": "code",
   "execution_count": 33,
   "id": "d632a902",
   "metadata": {},
   "outputs": [
    {
     "data": {
      "text/html": [
       "<div>\n",
       "<style scoped>\n",
       "    .dataframe tbody tr th:only-of-type {\n",
       "        vertical-align: middle;\n",
       "    }\n",
       "\n",
       "    .dataframe tbody tr th {\n",
       "        vertical-align: top;\n",
       "    }\n",
       "\n",
       "    .dataframe thead th {\n",
       "        text-align: right;\n",
       "    }\n",
       "</style>\n",
       "<table border=\"1\" class=\"dataframe\">\n",
       "  <thead>\n",
       "    <tr style=\"text-align: right;\">\n",
       "      <th></th>\n",
       "      <th>Investigation_Type</th>\n",
       "      <th>Aircraft_Category</th>\n",
       "      <th>Make</th>\n",
       "      <th>Model</th>\n",
       "      <th>Amateur_Built</th>\n",
       "      <th>Number_of_Engines</th>\n",
       "      <th>Engine_Type</th>\n",
       "      <th>Weather_Condition</th>\n",
       "    </tr>\n",
       "  </thead>\n",
       "  <tbody>\n",
       "    <tr>\n",
       "      <th>7</th>\n",
       "      <td>1</td>\n",
       "      <td>Airplane</td>\n",
       "      <td>Boeing</td>\n",
       "      <td>737</td>\n",
       "      <td>No</td>\n",
       "      <td>1.0</td>\n",
       "      <td>Unknown</td>\n",
       "      <td>UNK</td>\n",
       "    </tr>\n",
       "    <tr>\n",
       "      <th>71</th>\n",
       "      <td>1</td>\n",
       "      <td>Airplane</td>\n",
       "      <td>British Aerospace</td>\n",
       "      <td>JETSTREAM 3101</td>\n",
       "      <td>No</td>\n",
       "      <td>2.0</td>\n",
       "      <td>Turbo Prop</td>\n",
       "      <td>VMC</td>\n",
       "    </tr>\n",
       "    <tr>\n",
       "      <th>108</th>\n",
       "      <td>1</td>\n",
       "      <td>Airplane</td>\n",
       "      <td>Mcdonnell Douglas</td>\n",
       "      <td>DC9-32</td>\n",
       "      <td>No</td>\n",
       "      <td>2.0</td>\n",
       "      <td>Turbo Fan</td>\n",
       "      <td>UNK</td>\n",
       "    </tr>\n",
       "    <tr>\n",
       "      <th>156</th>\n",
       "      <td>1</td>\n",
       "      <td>Airplane</td>\n",
       "      <td>Cessna</td>\n",
       "      <td>182P</td>\n",
       "      <td>No</td>\n",
       "      <td>1.0</td>\n",
       "      <td>Reciprocating</td>\n",
       "      <td>VMC</td>\n",
       "    </tr>\n",
       "    <tr>\n",
       "      <th>169</th>\n",
       "      <td>1</td>\n",
       "      <td>Airplane</td>\n",
       "      <td>Saab-scania Ab (saab)</td>\n",
       "      <td>340</td>\n",
       "      <td>No</td>\n",
       "      <td>2.0</td>\n",
       "      <td>Turbo Prop</td>\n",
       "      <td>VMC</td>\n",
       "    </tr>\n",
       "    <tr>\n",
       "      <th>...</th>\n",
       "      <td>...</td>\n",
       "      <td>...</td>\n",
       "      <td>...</td>\n",
       "      <td>...</td>\n",
       "      <td>...</td>\n",
       "      <td>...</td>\n",
       "      <td>...</td>\n",
       "      <td>...</td>\n",
       "    </tr>\n",
       "    <tr>\n",
       "      <th>41134</th>\n",
       "      <td>1</td>\n",
       "      <td>Airplane</td>\n",
       "      <td>BOEING</td>\n",
       "      <td>737</td>\n",
       "      <td>No</td>\n",
       "      <td>1.0</td>\n",
       "      <td>Reciprocating</td>\n",
       "      <td>VMC</td>\n",
       "    </tr>\n",
       "    <tr>\n",
       "      <th>41144</th>\n",
       "      <td>1</td>\n",
       "      <td>Airplane</td>\n",
       "      <td>BOEING</td>\n",
       "      <td>737</td>\n",
       "      <td>No</td>\n",
       "      <td>1.0</td>\n",
       "      <td>Reciprocating</td>\n",
       "      <td>VMC</td>\n",
       "    </tr>\n",
       "    <tr>\n",
       "      <th>41146</th>\n",
       "      <td>1</td>\n",
       "      <td>Airplane</td>\n",
       "      <td>BOEING</td>\n",
       "      <td>737</td>\n",
       "      <td>No</td>\n",
       "      <td>1.0</td>\n",
       "      <td>Reciprocating</td>\n",
       "      <td>VMC</td>\n",
       "    </tr>\n",
       "    <tr>\n",
       "      <th>41151</th>\n",
       "      <td>1</td>\n",
       "      <td>Airplane</td>\n",
       "      <td>BOEING</td>\n",
       "      <td>737</td>\n",
       "      <td>No</td>\n",
       "      <td>1.0</td>\n",
       "      <td>Reciprocating</td>\n",
       "      <td>VMC</td>\n",
       "    </tr>\n",
       "    <tr>\n",
       "      <th>41176</th>\n",
       "      <td>1</td>\n",
       "      <td>Airplane</td>\n",
       "      <td>BOEING</td>\n",
       "      <td>737</td>\n",
       "      <td>No</td>\n",
       "      <td>1.0</td>\n",
       "      <td>Reciprocating</td>\n",
       "      <td>VMC</td>\n",
       "    </tr>\n",
       "  </tbody>\n",
       "</table>\n",
       "<p>2298 rows × 8 columns</p>\n",
       "</div>"
      ],
      "text/plain": [
       "       Investigation_Type Aircraft_Category                   Make  \\\n",
       "7                       1          Airplane                 Boeing   \n",
       "71                      1          Airplane      British Aerospace   \n",
       "108                     1          Airplane      Mcdonnell Douglas   \n",
       "156                     1          Airplane                 Cessna   \n",
       "169                     1          Airplane  Saab-scania Ab (saab)   \n",
       "...                   ...               ...                    ...   \n",
       "41134                   1          Airplane                 BOEING   \n",
       "41144                   1          Airplane                 BOEING   \n",
       "41146                   1          Airplane                 BOEING   \n",
       "41151                   1          Airplane                 BOEING   \n",
       "41176                   1          Airplane                 BOEING   \n",
       "\n",
       "                Model Amateur_Built  Number_of_Engines    Engine_Type  \\\n",
       "7                 737            No                1.0        Unknown   \n",
       "71     JETSTREAM 3101            No                2.0     Turbo Prop   \n",
       "108            DC9-32            No                2.0      Turbo Fan   \n",
       "156              182P            No                1.0  Reciprocating   \n",
       "169               340            No                2.0     Turbo Prop   \n",
       "...               ...           ...                ...            ...   \n",
       "41134             737            No                1.0  Reciprocating   \n",
       "41144             737            No                1.0  Reciprocating   \n",
       "41146             737            No                1.0  Reciprocating   \n",
       "41151             737            No                1.0  Reciprocating   \n",
       "41176             737            No                1.0  Reciprocating   \n",
       "\n",
       "      Weather_Condition  \n",
       "7                   UNK  \n",
       "71                  VMC  \n",
       "108                 UNK  \n",
       "156                 VMC  \n",
       "169                 VMC  \n",
       "...                 ...  \n",
       "41134               VMC  \n",
       "41144               VMC  \n",
       "41146               VMC  \n",
       "41151               VMC  \n",
       "41176               VMC  \n",
       "\n",
       "[2298 rows x 8 columns]"
      ]
     },
     "execution_count": 33,
     "metadata": {},
     "output_type": "execute_result"
    }
   ],
   "source": [
    "df_class_1"
   ]
  },
  {
   "cell_type": "code",
   "execution_count": 34,
   "id": "37e0aa91",
   "metadata": {},
   "outputs": [
    {
     "data": {
      "text/plain": [
       "Investigation_Type    0\n",
       "Aircraft_Category     0\n",
       "Make                  0\n",
       "Model                 0\n",
       "Amateur_Built         0\n",
       "Number_of_Engines     0\n",
       "Engine_Type           0\n",
       "Weather_Condition     0\n",
       "dtype: int64"
      ]
     },
     "execution_count": 34,
     "metadata": {},
     "output_type": "execute_result"
    }
   ],
   "source": [
    "df_class_1.isnull().sum()"
   ]
  },
  {
   "cell_type": "code",
   "execution_count": 35,
   "id": "df36b89d",
   "metadata": {},
   "outputs": [],
   "source": [
    "count_class= pd.value_counts(df[\"Weather_Condition\"], sort=False)"
   ]
  },
  {
   "cell_type": "code",
   "execution_count": 36,
   "id": "46b865d4",
   "metadata": {},
   "outputs": [],
   "source": [
    "# plt.hist(df_class_1[\"Aircraft_Category\"])"
   ]
  },
  {
   "cell_type": "code",
   "execution_count": 37,
   "id": "7165f12d",
   "metadata": {},
   "outputs": [
    {
     "data": {
      "text/plain": [
       "VMC    34275\n",
       "IMC     2153\n",
       "UNK       57\n",
       "Unk      262\n",
       "Name: Weather_Condition, dtype: int64"
      ]
     },
     "execution_count": 37,
     "metadata": {},
     "output_type": "execute_result"
    }
   ],
   "source": [
    "count_class"
   ]
  },
  {
   "cell_type": "code",
   "execution_count": 38,
   "id": "bd5df79c",
   "metadata": {},
   "outputs": [],
   "source": [
    "count_class_0, count_class_1 = df.Investigation_Type.value_counts()"
   ]
  },
  {
   "cell_type": "code",
   "execution_count": 39,
   "id": "657fbcf7",
   "metadata": {},
   "outputs": [],
   "source": [
    "#count_class_0"
   ]
  },
  {
   "cell_type": "code",
   "execution_count": 40,
   "id": "d69f74ae",
   "metadata": {},
   "outputs": [
    {
     "data": {
      "text/plain": [
       "2298"
      ]
     },
     "execution_count": 40,
     "metadata": {},
     "output_type": "execute_result"
    }
   ],
   "source": [
    "count_class_1"
   ]
  },
  {
   "cell_type": "code",
   "execution_count": 41,
   "id": "72d6e34c",
   "metadata": {},
   "outputs": [],
   "source": [
    "#df_class_1 = df_class_1.sample(df_class_0, replace =True)"
   ]
  },
  {
   "cell_type": "code",
   "execution_count": 42,
   "id": "5439a0be",
   "metadata": {},
   "outputs": [],
   "source": [
    "#df_class_1.shape"
   ]
  },
  {
   "cell_type": "code",
   "execution_count": 43,
   "id": "fe7fe755",
   "metadata": {},
   "outputs": [],
   "source": [
    "#df_class_0_under.shape"
   ]
  },
  {
   "cell_type": "code",
   "execution_count": 44,
   "id": "4c33d5c1",
   "metadata": {},
   "outputs": [],
   "source": [
    "# from imblearn.over_sampling import SMOTE\n",
    "# # Resampling the minority class. The strategy can be changed as required.\n",
    "# sm = SMOTE(sampling_strategy='minority', random_state=42)\n",
    "# # Fit the model to generate the data.\n",
    "# df_class_0, df_class_1 = sm.fit_resample(df_train.drop('Is_Lead', axis=1), df_train['Is_Lead'])\n",
    "# oversampled = pd.concat([pd.DataFrame(df_class_1), pd.DataFrame(df_class_1)], axis=1)"
   ]
  },
  {
   "cell_type": "code",
   "execution_count": 45,
   "id": "8d86515a",
   "metadata": {},
   "outputs": [],
   "source": [
    "df_new =pd.concat([df_class_0, df_class_1], axis=0)"
   ]
  },
  {
   "cell_type": "code",
   "execution_count": 46,
   "id": "8f812a65",
   "metadata": {},
   "outputs": [
    {
     "data": {
      "text/plain": [
       "0    21086\n",
       "1     2298\n",
       "Name: Investigation_Type, dtype: int64"
      ]
     },
     "execution_count": 46,
     "metadata": {},
     "output_type": "execute_result"
    }
   ],
   "source": [
    "df_new[\"Investigation_Type\"].value_counts()"
   ]
  },
  {
   "cell_type": "code",
   "execution_count": 47,
   "id": "18a5ceaf",
   "metadata": {},
   "outputs": [
    {
     "name": "stderr",
     "output_type": "stream",
     "text": [
      "D:\\anaconda\\anaconda\\lib\\site-packages\\seaborn\\_decorators.py:36: FutureWarning: Pass the following variable as a keyword arg: x. From version 0.12, the only valid positional argument will be `data`, and passing other arguments without an explicit keyword will result in an error or misinterpretation.\n",
      "  warnings.warn(\n"
     ]
    },
    {
     "data": {
      "text/plain": [
       "<AxesSubplot:xlabel='Investigation_Type', ylabel='count'>"
      ]
     },
     "execution_count": 47,
     "metadata": {},
     "output_type": "execute_result"
    },
    {
     "data": {
      "image/png": "[encoded data removed]",
      "text/plain": [
       "<Figure size 640x480 with 1 Axes>"
      ]
     },
     "metadata": {},
     "output_type": "display_data"
    }
   ],
   "source": [
    "import seaborn as sns\n",
    "sns.countplot(df_new[\"Investigation_Type\"])"
   ]
  },
  {
   "cell_type": "code",
   "execution_count": 48,
   "id": "5e40d98f",
   "metadata": {},
   "outputs": [
    {
     "data": {
      "text/plain": [
       "Investigation_Type    0\n",
       "Aircraft_Category     0\n",
       "Make                  0\n",
       "Model                 0\n",
       "Amateur_Built         0\n",
       "Number_of_Engines     0\n",
       "Engine_Type           0\n",
       "Weather_Condition     0\n",
       "dtype: int64"
      ]
     },
     "execution_count": 48,
     "metadata": {},
     "output_type": "execute_result"
    }
   ],
   "source": [
    "df_new.isnull().sum()"
   ]
  },
  {
   "cell_type": "code",
   "execution_count": 49,
   "id": "30afad84",
   "metadata": {},
   "outputs": [],
   "source": [
    "df_new['Aircraft_Category']=label_encoder.fit_transform(df_new['Aircraft_Category'])\n",
    "df_new['Amateur_Built']=label_encoder.fit_transform(df_new['Amateur_Built'])\n",
    "df_new['Engine_Type']=label_encoder.fit_transform(df_new['Engine_Type'])\n",
    "df_new['Weather_Condition']=label_encoder.fit_transform(df_new['Weather_Condition'])\n",
    "df_new['Make']=label_encoder.fit_transform(df_new['Make'])\n",
    "df_new['Model']=label_encoder.fit_transform(df_new['Model'])"
   ]
  },
  {
   "cell_type": "code",
   "execution_count": 50,
   "id": "13f47b6e",
   "metadata": {},
   "outputs": [],
   "source": [
    "X=df_new.drop(['Investigation_Type'],axis=1)"
   ]
  },
  {
   "cell_type": "code",
   "execution_count": 51,
   "id": "a2e19c57",
   "metadata": {},
   "outputs": [],
   "source": [
    "y=df_new['Investigation_Type']"
   ]
  },
  {
   "cell_type": "code",
   "execution_count": 52,
   "id": "2408a40c",
   "metadata": {},
   "outputs": [],
   "source": [
    "# from imblearn.over_sampling import SMOTE\n",
    "# SMOTE =SMOTE()\n",
    "\n",
    "# x_res, y_res = SMOTE.fit_resample(X,y)"
   ]
  },
  {
   "cell_type": "code",
   "execution_count": 53,
   "id": "475fe787",
   "metadata": {},
   "outputs": [
    {
     "data": {
      "text/plain": [
       "0    21086\n",
       "1     2298\n",
       "Name: Investigation_Type, dtype: int64"
      ]
     },
     "execution_count": 53,
     "metadata": {},
     "output_type": "execute_result"
    }
   ],
   "source": [
    "df_new.Investigation_Type.value_counts()"
   ]
  },
  {
   "cell_type": "code",
   "execution_count": null,
   "id": "7ff2afaa",
   "metadata": {},
   "outputs": [],
   "source": []
  },
  {
   "cell_type": "code",
   "execution_count": 54,
   "id": "416dd90b",
   "metadata": {},
   "outputs": [],
   "source": [
    " from collections import Counter"
   ]
  },
  {
   "cell_type": "code",
   "execution_count": 55,
   "id": "0cc71778",
   "metadata": {},
   "outputs": [],
   "source": [
    "# plt.figure(figsize=(18,10))\n",
    "# counter = Counter(y)\n",
    "# for label, _ in counter.items():\n",
    "#     row_ix = np.where(y==label)[0]\n",
    "#     plt.scatter(x.loc[row_ix, 'Aircraft_damage'], x.loc[row_ix,'Aircraft_Category'], label=label)\n",
    "# plt.legend()\n",
    "# plt.show()"
   ]
  },
  {
   "cell_type": "code",
   "execution_count": 56,
   "id": "8f40ed46",
   "metadata": {},
   "outputs": [
    {
     "data": {
      "text/html": [
       "<div>\n",
       "<style scoped>\n",
       "    .dataframe tbody tr th:only-of-type {\n",
       "        vertical-align: middle;\n",
       "    }\n",
       "\n",
       "    .dataframe tbody tr th {\n",
       "        vertical-align: top;\n",
       "    }\n",
       "\n",
       "    .dataframe thead th {\n",
       "        text-align: right;\n",
       "    }\n",
       "</style>\n",
       "<table border=\"1\" class=\"dataframe\">\n",
       "  <thead>\n",
       "    <tr style=\"text-align: right;\">\n",
       "      <th></th>\n",
       "      <th>Investigation_Type</th>\n",
       "      <th>Aircraft_Category</th>\n",
       "      <th>Make</th>\n",
       "      <th>Model</th>\n",
       "      <th>Amateur_Built</th>\n",
       "      <th>Number_of_Engines</th>\n",
       "      <th>Engine_Type</th>\n",
       "      <th>Weather_Condition</th>\n",
       "    </tr>\n",
       "  </thead>\n",
       "  <tbody>\n",
       "    <tr>\n",
       "      <th>68</th>\n",
       "      <td>0</td>\n",
       "      <td>0</td>\n",
       "      <td>2476</td>\n",
       "      <td>3490</td>\n",
       "      <td>1</td>\n",
       "      <td>1.0</td>\n",
       "      <td>6</td>\n",
       "      <td>3</td>\n",
       "    </tr>\n",
       "    <tr>\n",
       "      <th>189</th>\n",
       "      <td>0</td>\n",
       "      <td>0</td>\n",
       "      <td>834</td>\n",
       "      <td>218</td>\n",
       "      <td>0</td>\n",
       "      <td>1.0</td>\n",
       "      <td>9</td>\n",
       "      <td>3</td>\n",
       "    </tr>\n",
       "    <tr>\n",
       "      <th>194</th>\n",
       "      <td>0</td>\n",
       "      <td>0</td>\n",
       "      <td>834</td>\n",
       "      <td>139</td>\n",
       "      <td>0</td>\n",
       "      <td>1.0</td>\n",
       "      <td>6</td>\n",
       "      <td>3</td>\n",
       "    </tr>\n",
       "    <tr>\n",
       "      <th>195</th>\n",
       "      <td>0</td>\n",
       "      <td>0</td>\n",
       "      <td>1086</td>\n",
       "      <td>1732</td>\n",
       "      <td>0</td>\n",
       "      <td>4.0</td>\n",
       "      <td>7</td>\n",
       "      <td>3</td>\n",
       "    </tr>\n",
       "    <tr>\n",
       "      <th>229</th>\n",
       "      <td>0</td>\n",
       "      <td>5</td>\n",
       "      <td>550</td>\n",
       "      <td>397</td>\n",
       "      <td>0</td>\n",
       "      <td>2.0</td>\n",
       "      <td>10</td>\n",
       "      <td>3</td>\n",
       "    </tr>\n",
       "    <tr>\n",
       "      <th>...</th>\n",
       "      <td>...</td>\n",
       "      <td>...</td>\n",
       "      <td>...</td>\n",
       "      <td>...</td>\n",
       "      <td>...</td>\n",
       "      <td>...</td>\n",
       "      <td>...</td>\n",
       "      <td>...</td>\n",
       "    </tr>\n",
       "    <tr>\n",
       "      <th>41134</th>\n",
       "      <td>1</td>\n",
       "      <td>0</td>\n",
       "      <td>401</td>\n",
       "      <td>567</td>\n",
       "      <td>0</td>\n",
       "      <td>1.0</td>\n",
       "      <td>6</td>\n",
       "      <td>3</td>\n",
       "    </tr>\n",
       "    <tr>\n",
       "      <th>41144</th>\n",
       "      <td>1</td>\n",
       "      <td>0</td>\n",
       "      <td>401</td>\n",
       "      <td>567</td>\n",
       "      <td>0</td>\n",
       "      <td>1.0</td>\n",
       "      <td>6</td>\n",
       "      <td>3</td>\n",
       "    </tr>\n",
       "    <tr>\n",
       "      <th>41146</th>\n",
       "      <td>1</td>\n",
       "      <td>0</td>\n",
       "      <td>401</td>\n",
       "      <td>567</td>\n",
       "      <td>0</td>\n",
       "      <td>1.0</td>\n",
       "      <td>6</td>\n",
       "      <td>3</td>\n",
       "    </tr>\n",
       "    <tr>\n",
       "      <th>41151</th>\n",
       "      <td>1</td>\n",
       "      <td>0</td>\n",
       "      <td>401</td>\n",
       "      <td>567</td>\n",
       "      <td>0</td>\n",
       "      <td>1.0</td>\n",
       "      <td>6</td>\n",
       "      <td>3</td>\n",
       "    </tr>\n",
       "    <tr>\n",
       "      <th>41176</th>\n",
       "      <td>1</td>\n",
       "      <td>0</td>\n",
       "      <td>401</td>\n",
       "      <td>567</td>\n",
       "      <td>0</td>\n",
       "      <td>1.0</td>\n",
       "      <td>6</td>\n",
       "      <td>3</td>\n",
       "    </tr>\n",
       "  </tbody>\n",
       "</table>\n",
       "<p>23384 rows × 8 columns</p>\n",
       "</div>"
      ],
      "text/plain": [
       "       Investigation_Type  Aircraft_Category  Make  Model  Amateur_Built  \\\n",
       "68                      0                  0  2476   3490              1   \n",
       "189                     0                  0   834    218              0   \n",
       "194                     0                  0   834    139              0   \n",
       "195                     0                  0  1086   1732              0   \n",
       "229                     0                  5   550    397              0   \n",
       "...                   ...                ...   ...    ...            ...   \n",
       "41134                   1                  0   401    567              0   \n",
       "41144                   1                  0   401    567              0   \n",
       "41146                   1                  0   401    567              0   \n",
       "41151                   1                  0   401    567              0   \n",
       "41176                   1                  0   401    567              0   \n",
       "\n",
       "       Number_of_Engines  Engine_Type  Weather_Condition  \n",
       "68                   1.0            6                  3  \n",
       "189                  1.0            9                  3  \n",
       "194                  1.0            6                  3  \n",
       "195                  4.0            7                  3  \n",
       "229                  2.0           10                  3  \n",
       "...                  ...          ...                ...  \n",
       "41134                1.0            6                  3  \n",
       "41144                1.0            6                  3  \n",
       "41146                1.0            6                  3  \n",
       "41151                1.0            6                  3  \n",
       "41176                1.0            6                  3  \n",
       "\n",
       "[23384 rows x 8 columns]"
      ]
     },
     "execution_count": 56,
     "metadata": {},
     "output_type": "execute_result"
    }
   ],
   "source": [
    "df_new"
   ]
  },
  {
   "cell_type": "markdown",
   "id": "6d6af70e",
   "metadata": {},
   "source": [
    "# Handling imbalanced data by SMOTE"
   ]
  },
  {
   "cell_type": "code",
   "execution_count": 57,
   "id": "dab2b871",
   "metadata": {},
   "outputs": [],
   "source": [
    "from imblearn.over_sampling import SMOTE\n",
    "SMOTE =SMOTE()\n",
    "\n",
    "x_res, y_res = SMOTE.fit_resample(X,y)"
   ]
  },
  {
   "cell_type": "code",
   "execution_count": 58,
   "id": "125bb0e4",
   "metadata": {},
   "outputs": [
    {
     "name": "stderr",
     "output_type": "stream",
     "text": [
      "D:\\anaconda\\anaconda\\lib\\site-packages\\seaborn\\_decorators.py:36: FutureWarning: Pass the following variable as a keyword arg: x. From version 0.12, the only valid positional argument will be `data`, and passing other arguments without an explicit keyword will result in an error or misinterpretation.\n",
      "  warnings.warn(\n"
     ]
    },
    {
     "data": {
      "text/plain": [
       "<AxesSubplot:xlabel='Investigation_Type', ylabel='count'>"
      ]
     },
     "execution_count": 58,
     "metadata": {},
     "output_type": "execute_result"
    },
    {
     "data": {
      "image/png": "[encoded data removed]",
      "text/plain": [
       "<Figure size 640x480 with 1 Axes>"
      ]
     },
     "metadata": {},
     "output_type": "display_data"
    }
   ],
   "source": [
    "sns.countplot(y_res)"
   ]
  },
  {
   "cell_type": "code",
   "execution_count": 59,
   "id": "5ab86f09",
   "metadata": {},
   "outputs": [
    {
     "data": {
      "text/html": [
       "<div>\n",
       "<style scoped>\n",
       "    .dataframe tbody tr th:only-of-type {\n",
       "        vertical-align: middle;\n",
       "    }\n",
       "\n",
       "    .dataframe tbody tr th {\n",
       "        vertical-align: top;\n",
       "    }\n",
       "\n",
       "    .dataframe thead th {\n",
       "        text-align: right;\n",
       "    }\n",
       "</style>\n",
       "<table border=\"1\" class=\"dataframe\">\n",
       "  <thead>\n",
       "    <tr style=\"text-align: right;\">\n",
       "      <th></th>\n",
       "      <th>Aircraft_Category</th>\n",
       "      <th>Make</th>\n",
       "      <th>Model</th>\n",
       "      <th>Amateur_Built</th>\n",
       "      <th>Number_of_Engines</th>\n",
       "      <th>Engine_Type</th>\n",
       "      <th>Weather_Condition</th>\n",
       "    </tr>\n",
       "  </thead>\n",
       "  <tbody>\n",
       "    <tr>\n",
       "      <th>0</th>\n",
       "      <td>0</td>\n",
       "      <td>2476</td>\n",
       "      <td>3490</td>\n",
       "      <td>1</td>\n",
       "      <td>1.000000</td>\n",
       "      <td>6</td>\n",
       "      <td>3</td>\n",
       "    </tr>\n",
       "    <tr>\n",
       "      <th>1</th>\n",
       "      <td>0</td>\n",
       "      <td>834</td>\n",
       "      <td>218</td>\n",
       "      <td>0</td>\n",
       "      <td>1.000000</td>\n",
       "      <td>9</td>\n",
       "      <td>3</td>\n",
       "    </tr>\n",
       "    <tr>\n",
       "      <th>2</th>\n",
       "      <td>0</td>\n",
       "      <td>834</td>\n",
       "      <td>139</td>\n",
       "      <td>0</td>\n",
       "      <td>1.000000</td>\n",
       "      <td>6</td>\n",
       "      <td>3</td>\n",
       "    </tr>\n",
       "    <tr>\n",
       "      <th>3</th>\n",
       "      <td>0</td>\n",
       "      <td>1086</td>\n",
       "      <td>1732</td>\n",
       "      <td>0</td>\n",
       "      <td>4.000000</td>\n",
       "      <td>7</td>\n",
       "      <td>3</td>\n",
       "    </tr>\n",
       "    <tr>\n",
       "      <th>4</th>\n",
       "      <td>5</td>\n",
       "      <td>550</td>\n",
       "      <td>397</td>\n",
       "      <td>0</td>\n",
       "      <td>2.000000</td>\n",
       "      <td>10</td>\n",
       "      <td>3</td>\n",
       "    </tr>\n",
       "    <tr>\n",
       "      <th>...</th>\n",
       "      <td>...</td>\n",
       "      <td>...</td>\n",
       "      <td>...</td>\n",
       "      <td>...</td>\n",
       "      <td>...</td>\n",
       "      <td>...</td>\n",
       "      <td>...</td>\n",
       "    </tr>\n",
       "    <tr>\n",
       "      <th>42167</th>\n",
       "      <td>0</td>\n",
       "      <td>350</td>\n",
       "      <td>152</td>\n",
       "      <td>0</td>\n",
       "      <td>1.121638</td>\n",
       "      <td>6</td>\n",
       "      <td>3</td>\n",
       "    </tr>\n",
       "    <tr>\n",
       "      <th>42168</th>\n",
       "      <td>0</td>\n",
       "      <td>414</td>\n",
       "      <td>1808</td>\n",
       "      <td>0</td>\n",
       "      <td>2.000000</td>\n",
       "      <td>9</td>\n",
       "      <td>3</td>\n",
       "    </tr>\n",
       "    <tr>\n",
       "      <th>42169</th>\n",
       "      <td>0</td>\n",
       "      <td>1196</td>\n",
       "      <td>1941</td>\n",
       "      <td>0</td>\n",
       "      <td>2.000000</td>\n",
       "      <td>9</td>\n",
       "      <td>3</td>\n",
       "    </tr>\n",
       "    <tr>\n",
       "      <th>42170</th>\n",
       "      <td>0</td>\n",
       "      <td>576</td>\n",
       "      <td>575</td>\n",
       "      <td>0</td>\n",
       "      <td>2.000000</td>\n",
       "      <td>7</td>\n",
       "      <td>3</td>\n",
       "    </tr>\n",
       "    <tr>\n",
       "      <th>42171</th>\n",
       "      <td>0</td>\n",
       "      <td>576</td>\n",
       "      <td>572</td>\n",
       "      <td>0</td>\n",
       "      <td>1.344934</td>\n",
       "      <td>7</td>\n",
       "      <td>3</td>\n",
       "    </tr>\n",
       "  </tbody>\n",
       "</table>\n",
       "<p>42172 rows × 7 columns</p>\n",
       "</div>"
      ],
      "text/plain": [
       "       Aircraft_Category  Make  Model  Amateur_Built  Number_of_Engines  \\\n",
       "0                      0  2476   3490              1           1.000000   \n",
       "1                      0   834    218              0           1.000000   \n",
       "2                      0   834    139              0           1.000000   \n",
       "3                      0  1086   1732              0           4.000000   \n",
       "4                      5   550    397              0           2.000000   \n",
       "...                  ...   ...    ...            ...                ...   \n",
       "42167                  0   350    152              0           1.121638   \n",
       "42168                  0   414   1808              0           2.000000   \n",
       "42169                  0  1196   1941              0           2.000000   \n",
       "42170                  0   576    575              0           2.000000   \n",
       "42171                  0   576    572              0           1.344934   \n",
       "\n",
       "       Engine_Type  Weather_Condition  \n",
       "0                6                  3  \n",
       "1                9                  3  \n",
       "2                6                  3  \n",
       "3                7                  3  \n",
       "4               10                  3  \n",
       "...            ...                ...  \n",
       "42167            6                  3  \n",
       "42168            9                  3  \n",
       "42169            9                  3  \n",
       "42170            7                  3  \n",
       "42171            7                  3  \n",
       "\n",
       "[42172 rows x 7 columns]"
      ]
     },
     "execution_count": 59,
     "metadata": {},
     "output_type": "execute_result"
    }
   ],
   "source": [
    "x_res"
   ]
  },
  {
   "cell_type": "markdown",
   "id": "1ff8271a",
   "metadata": {},
   "source": [
    "# Train Test Split"
   ]
  },
  {
   "cell_type": "code",
   "execution_count": 60,
   "id": "f6ca718e",
   "metadata": {},
   "outputs": [],
   "source": [
    "from sklearn.model_selection import train_test_split\n",
    "X_train, X_test, y_train, y_test = train_test_split(x_res,y_res, test_size=0.25, random_state = 10) "
   ]
  },
  {
   "cell_type": "code",
   "execution_count": 61,
   "id": "3c44408d",
   "metadata": {},
   "outputs": [],
   "source": [
    "# from sklearn.neighbors import KNeighborsClassifier\n",
    "# model = KNeighborsClassifier()\n",
    "# model.fit(X_train,y_train)\n",
    "# knn_predict = model.predict(X_test)\n",
    "# model.score(X_test, y_test)"
   ]
  },
  {
   "cell_type": "code",
   "execution_count": 62,
   "id": "99536523",
   "metadata": {},
   "outputs": [],
   "source": [
    "# from sklearn.metrics import accuracy_score\n",
    "# accuracy_score(y_test,knn_predict)"
   ]
  },
  {
   "cell_type": "code",
   "execution_count": 63,
   "id": "44ece3c5",
   "metadata": {},
   "outputs": [],
   "source": [
    "# from imblearn.over_sampling import RandomOverSampler\n",
    "# SMOTE =RandomOverSampler(0.5)\n",
    "\n",
    "# x_res, y_res = SMOTE.fit_resample(X,y)"
   ]
  },
  {
   "cell_type": "code",
   "execution_count": 64,
   "id": "18b0b885",
   "metadata": {},
   "outputs": [],
   "source": [
    "# from imblearn.over_sampling import SMOTE\n",
    "# SMOTE =SMOTE()\n",
    "\n",
    "# x_res, y_res = SMOTE.fit_resample(X,y)"
   ]
  },
  {
   "cell_type": "code",
   "execution_count": 65,
   "id": "58ae3484",
   "metadata": {},
   "outputs": [],
   "source": [
    "# Counter(y_res)"
   ]
  },
  {
   "cell_type": "code",
   "execution_count": 66,
   "id": "74303b10",
   "metadata": {},
   "outputs": [],
   "source": [
    "# plt.hist(df[\"Aircraft_damage\"])"
   ]
  },
  {
   "cell_type": "markdown",
   "id": "76975e6b",
   "metadata": {},
   "source": [
    "# SVC"
   ]
  },
  {
   "cell_type": "code",
   "execution_count": 67,
   "id": "621f03fd",
   "metadata": {},
   "outputs": [],
   "source": [
    "from sklearn.svm import SVC\n",
    "from sklearn.metrics import r2_score\n",
    "from sklearn.metrics import confusion_matrix\n",
    "from sklearn.metrics import classification_report\n",
    "from sklearn.model_selection import cross_val_score\n",
    "model_svc = SVC()\n",
    "model_svc.fit(X_train, y_train)\n",
    "svc_predict = model_svc.predict(X_test)"
   ]
  },
  {
   "cell_type": "code",
   "execution_count": 68,
   "id": "757c8777",
   "metadata": {},
   "outputs": [
    {
     "data": {
      "text/plain": [
       "0.7568763831805249"
      ]
     },
     "execution_count": 68,
     "metadata": {},
     "output_type": "execute_result"
    }
   ],
   "source": [
    "model_svc.score(X_test, y_test)"
   ]
  },
  {
   "cell_type": "code",
   "execution_count": 69,
   "id": "1925db17",
   "metadata": {},
   "outputs": [
    {
     "data": {
      "text/plain": [
       "0.027505143901808693"
      ]
     },
     "execution_count": 69,
     "metadata": {},
     "output_type": "execute_result"
    }
   ],
   "source": [
    "svc_r2 = r2_score(y_test, svc_predict)\n",
    "svc_r2"
   ]
  },
  {
   "cell_type": "code",
   "execution_count": 70,
   "id": "0dfd7d92",
   "metadata": {},
   "outputs": [
    {
     "data": {
      "text/plain": [
       "array([1, 1, 0, ..., 0, 1, 0])"
      ]
     },
     "execution_count": 70,
     "metadata": {},
     "output_type": "execute_result"
    }
   ],
   "source": [
    "svc_predict"
   ]
  },
  {
   "cell_type": "code",
   "execution_count": 71,
   "id": "d1d08bf1",
   "metadata": {},
   "outputs": [
    {
     "data": {
      "text/plain": [
       "array([[4947, 1375],\n",
       "       [1701, 4629]], dtype=int64)"
      ]
     },
     "execution_count": 71,
     "metadata": {},
     "output_type": "execute_result"
    }
   ],
   "source": [
    "svc_cf_matrix= confusion_matrix(y_test, svc_predict)\n",
    "svc_cf_matrix"
   ]
  },
  {
   "cell_type": "code",
   "execution_count": 72,
   "id": "031b1c99",
   "metadata": {},
   "outputs": [
    {
     "data": {
      "text/plain": [
       "<AxesSubplot:>"
      ]
     },
     "execution_count": 72,
     "metadata": {},
     "output_type": "execute_result"
    },
    {
     "data": {
      "image/png": "[encoded data removed]",
      "text/plain": [
       "<Figure size 640x480 with 2 Axes>"
      ]
     },
     "metadata": {},
     "output_type": "display_data"
    }
   ],
   "source": [
    "sns.heatmap(svc_cf_matrix/np.sum(svc_cf_matrix), annot=True, \n",
    "            fmt='.2%', cmap='Blues')"
   ]
  },
  {
   "cell_type": "code",
   "execution_count": 73,
   "id": "4fd8c1b8",
   "metadata": {},
   "outputs": [
    {
     "name": "stdout",
     "output_type": "stream",
     "text": [
      "              precision    recall  f1-score   support\n",
      "\n",
      "           0       0.74      0.78      0.76      6322\n",
      "           1       0.77      0.73      0.75      6330\n",
      "\n",
      "    accuracy                           0.76     12652\n",
      "   macro avg       0.76      0.76      0.76     12652\n",
      "weighted avg       0.76      0.76      0.76     12652\n",
      "\n"
     ]
    }
   ],
   "source": [
    "print(classification_report(y_test, svc_predict))"
   ]
  },
  {
   "cell_type": "code",
   "execution_count": null,
   "id": "64599e88",
   "metadata": {},
   "outputs": [],
   "source": [
    "svc_cv_score = cross_val_score(model_svc,x_res,y_res,cv=10)\n",
    "svc_cv_score.mean()"
   ]
  },
  {
   "cell_type": "code",
   "execution_count": null,
   "id": "f550fc28",
   "metadata": {},
   "outputs": [],
   "source": []
  },
  {
   "cell_type": "code",
   "execution_count": null,
   "id": "4778f7aa",
   "metadata": {},
   "outputs": [],
   "source": []
  },
  {
   "cell_type": "markdown",
   "id": "d69b0cbb",
   "metadata": {},
   "source": [
    "# Naive Bayes"
   ]
  },
  {
   "cell_type": "code",
   "execution_count": 75,
   "id": "a8d5cac9",
   "metadata": {},
   "outputs": [],
   "source": [
    "from sklearn.naive_bayes import GaussianNB\n",
    "gnb = GaussianNB()\n",
    "gnb.fit(X_train, y_train)\n",
    "gnb_predict = gnb.predict(X_test)"
   ]
  },
  {
   "cell_type": "code",
   "execution_count": 76,
   "id": "22fb8db7",
   "metadata": {},
   "outputs": [
    {
     "data": {
      "text/plain": [
       "0.6927758457160923"
      ]
     },
     "execution_count": 76,
     "metadata": {},
     "output_type": "execute_result"
    }
   ],
   "source": [
    "gnb.score(X_test, y_test)"
   ]
  },
  {
   "cell_type": "code",
   "execution_count": 77,
   "id": "55dadb3f",
   "metadata": {},
   "outputs": [
    {
     "data": {
      "text/plain": [
       "array([[3072, 3250],\n",
       "       [ 637, 5693]], dtype=int64)"
      ]
     },
     "execution_count": 77,
     "metadata": {},
     "output_type": "execute_result"
    }
   ],
   "source": [
    "# from sklearn.metrics import confusion_matrix\n",
    "gnb_cf_matrix=confusion_matrix(y_test, gnb_predict)\n",
    "gnb_cf_matrix"
   ]
  },
  {
   "cell_type": "code",
   "execution_count": 78,
   "id": "f62f3fc8",
   "metadata": {},
   "outputs": [
    {
     "data": {
      "text/plain": [
       "<AxesSubplot:>"
      ]
     },
     "execution_count": 78,
     "metadata": {},
     "output_type": "execute_result"
    },
    {
     "data": {
      "image/png": "[encoded data removed]",
      "text/plain": [
       "<Figure size 640x480 with 2 Axes>"
      ]
     },
     "metadata": {},
     "output_type": "display_data"
    }
   ],
   "source": [
    "sns.heatmap(gnb_cf_matrix/np.sum(svc_cf_matrix), annot=True, \n",
    "            fmt='.2%', cmap='Blues')"
   ]
  },
  {
   "cell_type": "code",
   "execution_count": 79,
   "id": "9a6ae05d",
   "metadata": {},
   "outputs": [
    {
     "name": "stdout",
     "output_type": "stream",
     "text": [
      "              precision    recall  f1-score   support\n",
      "\n",
      "           0       0.83      0.49      0.61      6322\n",
      "           1       0.64      0.90      0.75      6330\n",
      "\n",
      "    accuracy                           0.69     12652\n",
      "   macro avg       0.73      0.69      0.68     12652\n",
      "weighted avg       0.73      0.69      0.68     12652\n",
      "\n"
     ]
    }
   ],
   "source": [
    "# from sklearn.metrics import classification_report\n",
    "print(classification_report(y_test, gnb_predict))"
   ]
  },
  {
   "cell_type": "code",
   "execution_count": 80,
   "id": "c107f384",
   "metadata": {},
   "outputs": [
    {
     "data": {
      "text/plain": [
       "array([0.66109531, 0.67354196, 0.67532006, 0.69061166, 0.69950213,\n",
       "       0.67496444, 0.69736842, 0.70900036, 0.6833867 , 0.68907862,\n",
       "       0.67235859, 0.67982924, 0.69619353, 0.69726076, 0.68125222])"
      ]
     },
     "execution_count": 80,
     "metadata": {},
     "output_type": "execute_result"
    }
   ],
   "source": [
    "# from sklearn.model_selection import cross_val_score\n",
    "gnb_cv_score = cross_val_score(gnb,x_res,y_res,cv=10)\n",
    "gnb_cv_score"
   ]
  },
  {
   "cell_type": "code",
   "execution_count": 81,
   "id": "d102cba9",
   "metadata": {},
   "outputs": [
    {
     "data": {
      "text/plain": [
       "-0.22889710846998357"
      ]
     },
     "execution_count": 81,
     "metadata": {},
     "output_type": "execute_result"
    }
   ],
   "source": [
    "# gnb_r2 = r2_score(y_test, gnb_predict)\n",
    "# gnb_r2"
   ]
  },
  {
   "cell_type": "markdown",
   "id": "56900637",
   "metadata": {},
   "source": [
    "# Logisctic Regression"
   ]
  },
  {
   "cell_type": "code",
   "execution_count": 82,
   "id": "bc61bb07",
   "metadata": {},
   "outputs": [
    {
     "name": "stderr",
     "output_type": "stream",
     "text": [
      "D:\\anaconda\\anaconda\\lib\\site-packages\\sklearn\\linear_model\\_logistic.py:814: ConvergenceWarning: lbfgs failed to converge (status=1):\n",
      "STOP: TOTAL NO. of ITERATIONS REACHED LIMIT.\n",
      "\n",
      "Increase the number of iterations (max_iter) or scale the data as shown in:\n",
      "    https://scikit-learn.org/stable/modules/preprocessing.html\n",
      "Please also refer to the documentation for alternative solver options:\n",
      "    https://scikit-learn.org/stable/modules/linear_model.html#logistic-regression\n",
      "  n_iter_i = _check_optimize_result(\n"
     ]
    }
   ],
   "source": [
    "from sklearn.linear_model import LogisticRegression\n",
    "logisctic = LogisticRegression()\n",
    "logisctic.fit(X_train, y_train)\n",
    "logisctic_predict = logisctic.predict(X_test)"
   ]
  },
  {
   "cell_type": "code",
   "execution_count": 83,
   "id": "7a646eb1",
   "metadata": {},
   "outputs": [
    {
     "data": {
      "text/plain": [
       "0.7070818842870692"
      ]
     },
     "execution_count": 83,
     "metadata": {},
     "output_type": "execute_result"
    }
   ],
   "source": [
    "logisctic.score(X_test, y_test)"
   ]
  },
  {
   "cell_type": "code",
   "execution_count": 84,
   "id": "76b54d0f",
   "metadata": {},
   "outputs": [
    {
     "data": {
      "text/plain": [
       "-0.17167293130685857"
      ]
     },
     "execution_count": 84,
     "metadata": {},
     "output_type": "execute_result"
    }
   ],
   "source": [
    "from sklearn.metrics import r2_score\n",
    "r2 = r2_score(y_test, logisctic_predict)\n",
    "r2"
   ]
  },
  {
   "cell_type": "markdown",
   "id": "1f2a455f",
   "metadata": {},
   "source": [
    "# Confusion Matrix"
   ]
  },
  {
   "cell_type": "code",
   "execution_count": 85,
   "id": "eee5cb43",
   "metadata": {},
   "outputs": [
    {
     "data": {
      "text/plain": [
       "array([[3665, 2657],\n",
       "       [1049, 5281]], dtype=int64)"
      ]
     },
     "execution_count": 85,
     "metadata": {},
     "output_type": "execute_result"
    }
   ],
   "source": [
    "from sklearn.metrics import confusion_matrix\n",
    "confusion_matrix(y_test, logisctic_predict)"
   ]
  },
  {
   "cell_type": "code",
   "execution_count": 86,
   "id": "189239d3",
   "metadata": {},
   "outputs": [
    {
     "data": {
      "text/plain": [
       "<AxesSubplot:>"
      ]
     },
     "execution_count": 86,
     "metadata": {},
     "output_type": "execute_result"
    },
    {
     "data": {
      "image/png": "[encoded data removed]",
      "text/plain": [
       "<Figure size 640x480 with 2 Axes>"
      ]
     },
     "metadata": {},
     "output_type": "display_data"
    }
   ],
   "source": [
    "sns.heatmap(confusion_matrix(y_test, logisctic_predict)/np.sum(confusion_matrix(y_test, logisctic_predict)), annot=True, \n",
    "            fmt='.2%', cmap='Blues')"
   ]
  },
  {
   "cell_type": "code",
   "execution_count": 87,
   "id": "21831c94",
   "metadata": {},
   "outputs": [
    {
     "name": "stdout",
     "output_type": "stream",
     "text": [
      "              precision    recall  f1-score   support\n",
      "\n",
      "           0       0.78      0.58      0.66      6322\n",
      "           1       0.67      0.83      0.74      6330\n",
      "\n",
      "    accuracy                           0.71     12652\n",
      "   macro avg       0.72      0.71      0.70     12652\n",
      "weighted avg       0.72      0.71      0.70     12652\n",
      "\n"
     ]
    }
   ],
   "source": [
    "from sklearn.metrics import classification_report\n",
    "print(classification_report(y_test, logisctic_predict))"
   ]
  },
  {
   "cell_type": "markdown",
   "id": "3ecc1332",
   "metadata": {},
   "source": [
    "# K-Fold"
   ]
  },
  {
   "cell_type": "code",
   "execution_count": 88,
   "id": "7d3c38ec",
   "metadata": {},
   "outputs": [
    {
     "name": "stderr",
     "output_type": "stream",
     "text": [
      "D:\\anaconda\\anaconda\\lib\\site-packages\\sklearn\\linear_model\\_logistic.py:814: ConvergenceWarning: lbfgs failed to converge (status=1):\n",
      "STOP: TOTAL NO. of ITERATIONS REACHED LIMIT.\n",
      "\n",
      "Increase the number of iterations (max_iter) or scale the data as shown in:\n",
      "    https://scikit-learn.org/stable/modules/preprocessing.html\n",
      "Please also refer to the documentation for alternative solver options:\n",
      "    https://scikit-learn.org/stable/modules/linear_model.html#logistic-regression\n",
      "  n_iter_i = _check_optimize_result(\n",
      "D:\\anaconda\\anaconda\\lib\\site-packages\\sklearn\\linear_model\\_logistic.py:814: ConvergenceWarning: lbfgs failed to converge (status=1):\n",
      "STOP: TOTAL NO. of ITERATIONS REACHED LIMIT.\n",
      "\n",
      "Increase the number of iterations (max_iter) or scale the data as shown in:\n",
      "    https://scikit-learn.org/stable/modules/preprocessing.html\n",
      "Please also refer to the documentation for alternative solver options:\n",
      "    https://scikit-learn.org/stable/modules/linear_model.html#logistic-regression\n",
      "  n_iter_i = _check_optimize_result(\n",
      "D:\\anaconda\\anaconda\\lib\\site-packages\\sklearn\\linear_model\\_logistic.py:814: ConvergenceWarning: lbfgs failed to converge (status=1):\n",
      "STOP: TOTAL NO. of ITERATIONS REACHED LIMIT.\n",
      "\n",
      "Increase the number of iterations (max_iter) or scale the data as shown in:\n",
      "    https://scikit-learn.org/stable/modules/preprocessing.html\n",
      "Please also refer to the documentation for alternative solver options:\n",
      "    https://scikit-learn.org/stable/modules/linear_model.html#logistic-regression\n",
      "  n_iter_i = _check_optimize_result(\n",
      "D:\\anaconda\\anaconda\\lib\\site-packages\\sklearn\\linear_model\\_logistic.py:814: ConvergenceWarning: lbfgs failed to converge (status=1):\n",
      "STOP: TOTAL NO. of ITERATIONS REACHED LIMIT.\n",
      "\n",
      "Increase the number of iterations (max_iter) or scale the data as shown in:\n",
      "    https://scikit-learn.org/stable/modules/preprocessing.html\n",
      "Please also refer to the documentation for alternative solver options:\n",
      "    https://scikit-learn.org/stable/modules/linear_model.html#logistic-regression\n",
      "  n_iter_i = _check_optimize_result(\n",
      "D:\\anaconda\\anaconda\\lib\\site-packages\\sklearn\\linear_model\\_logistic.py:814: ConvergenceWarning: lbfgs failed to converge (status=1):\n",
      "STOP: TOTAL NO. of ITERATIONS REACHED LIMIT.\n",
      "\n",
      "Increase the number of iterations (max_iter) or scale the data as shown in:\n",
      "    https://scikit-learn.org/stable/modules/preprocessing.html\n",
      "Please also refer to the documentation for alternative solver options:\n",
      "    https://scikit-learn.org/stable/modules/linear_model.html#logistic-regression\n",
      "  n_iter_i = _check_optimize_result(\n",
      "D:\\anaconda\\anaconda\\lib\\site-packages\\sklearn\\linear_model\\_logistic.py:814: ConvergenceWarning: lbfgs failed to converge (status=1):\n",
      "STOP: TOTAL NO. of ITERATIONS REACHED LIMIT.\n",
      "\n",
      "Increase the number of iterations (max_iter) or scale the data as shown in:\n",
      "    https://scikit-learn.org/stable/modules/preprocessing.html\n",
      "Please also refer to the documentation for alternative solver options:\n",
      "    https://scikit-learn.org/stable/modules/linear_model.html#logistic-regression\n",
      "  n_iter_i = _check_optimize_result(\n",
      "D:\\anaconda\\anaconda\\lib\\site-packages\\sklearn\\linear_model\\_logistic.py:814: ConvergenceWarning: lbfgs failed to converge (status=1):\n",
      "STOP: TOTAL NO. of ITERATIONS REACHED LIMIT.\n",
      "\n",
      "Increase the number of iterations (max_iter) or scale the data as shown in:\n",
      "    https://scikit-learn.org/stable/modules/preprocessing.html\n",
      "Please also refer to the documentation for alternative solver options:\n",
      "    https://scikit-learn.org/stable/modules/linear_model.html#logistic-regression\n",
      "  n_iter_i = _check_optimize_result(\n",
      "D:\\anaconda\\anaconda\\lib\\site-packages\\sklearn\\linear_model\\_logistic.py:814: ConvergenceWarning: lbfgs failed to converge (status=1):\n",
      "STOP: TOTAL NO. of ITERATIONS REACHED LIMIT.\n",
      "\n",
      "Increase the number of iterations (max_iter) or scale the data as shown in:\n",
      "    https://scikit-learn.org/stable/modules/preprocessing.html\n",
      "Please also refer to the documentation for alternative solver options:\n",
      "    https://scikit-learn.org/stable/modules/linear_model.html#logistic-regression\n",
      "  n_iter_i = _check_optimize_result(\n",
      "D:\\anaconda\\anaconda\\lib\\site-packages\\sklearn\\linear_model\\_logistic.py:814: ConvergenceWarning: lbfgs failed to converge (status=1):\n",
      "STOP: TOTAL NO. of ITERATIONS REACHED LIMIT.\n",
      "\n",
      "Increase the number of iterations (max_iter) or scale the data as shown in:\n",
      "    https://scikit-learn.org/stable/modules/preprocessing.html\n",
      "Please also refer to the documentation for alternative solver options:\n",
      "    https://scikit-learn.org/stable/modules/linear_model.html#logistic-regression\n",
      "  n_iter_i = _check_optimize_result(\n",
      "D:\\anaconda\\anaconda\\lib\\site-packages\\sklearn\\linear_model\\_logistic.py:814: ConvergenceWarning: lbfgs failed to converge (status=1):\n",
      "STOP: TOTAL NO. of ITERATIONS REACHED LIMIT.\n",
      "\n",
      "Increase the number of iterations (max_iter) or scale the data as shown in:\n",
      "    https://scikit-learn.org/stable/modules/preprocessing.html\n",
      "Please also refer to the documentation for alternative solver options:\n",
      "    https://scikit-learn.org/stable/modules/linear_model.html#logistic-regression\n",
      "  n_iter_i = _check_optimize_result(\n",
      "D:\\anaconda\\anaconda\\lib\\site-packages\\sklearn\\linear_model\\_logistic.py:814: ConvergenceWarning: lbfgs failed to converge (status=1):\n",
      "STOP: TOTAL NO. of ITERATIONS REACHED LIMIT.\n",
      "\n",
      "Increase the number of iterations (max_iter) or scale the data as shown in:\n",
      "    https://scikit-learn.org/stable/modules/preprocessing.html\n",
      "Please also refer to the documentation for alternative solver options:\n",
      "    https://scikit-learn.org/stable/modules/linear_model.html#logistic-regression\n",
      "  n_iter_i = _check_optimize_result(\n"
     ]
    },
    {
     "data": {
      "text/plain": [
       "array([0.65042674, 0.68065434, 0.7027027 , 0.69630156, 0.71514936,\n",
       "       0.69594595, 0.71052632, 0.72145144, 0.75738171, 0.71824973,\n",
       "       0.68587691, 0.698328  , 0.70117396, 0.70971185, 0.70864461])"
      ]
     },
     "execution_count": 88,
     "metadata": {},
     "output_type": "execute_result"
    }
   ],
   "source": [
    "#from sklearn.model_selection import cross_val_score\n",
    "logistic_cv_score = cross_val_score(logisctic,x_res,y_res,cv=10)\n",
    "logistic_cv_score"
   ]
  },
  {
   "cell_type": "code",
   "execution_count": 89,
   "id": "40d0e9a8",
   "metadata": {},
   "outputs": [
    {
     "data": {
      "text/plain": [
       "0.7035016789524458"
      ]
     },
     "execution_count": 89,
     "metadata": {},
     "output_type": "execute_result"
    }
   ],
   "source": [
    "logistic_cv_score.mean()"
   ]
  },
  {
   "cell_type": "markdown",
   "id": "a15c4a66",
   "metadata": {},
   "source": [
    "# Random Forest"
   ]
  },
  {
   "cell_type": "code",
   "execution_count": 90,
   "id": "dbbcb24e",
   "metadata": {},
   "outputs": [],
   "source": [
    "from sklearn.ensemble import RandomForestClassifier\n",
    "RF_model = RandomForestClassifier()\n",
    "RF_model.fit(X_train, y_train)\n",
    "y_predict = RF_model.predict(X_test)"
   ]
  },
  {
   "cell_type": "code",
   "execution_count": 91,
   "id": "7b162838",
   "metadata": {},
   "outputs": [
    {
     "data": {
      "text/plain": [
       "0.9400094846664558"
      ]
     },
     "execution_count": 91,
     "metadata": {},
     "output_type": "execute_result"
    }
   ],
   "source": [
    "RF_model.score(X_test, y_test)"
   ]
  },
  {
   "cell_type": "code",
   "execution_count": 92,
   "id": "6cf565db",
   "metadata": {},
   "outputs": [],
   "source": [
    "# from sklearn.metrics import accuracy_score\n",
    "# accuracy_score(y_test,y_predict)"
   ]
  },
  {
   "cell_type": "code",
   "execution_count": 93,
   "id": "7d1085c5",
   "metadata": {},
   "outputs": [
    {
     "data": {
      "text/plain": [
       "0.7600378427247961"
      ]
     },
     "execution_count": 93,
     "metadata": {},
     "output_type": "execute_result"
    }
   ],
   "source": [
    "rf_r2 = r2_score(y_test, y_predict)\n",
    "rf_r2"
   ]
  },
  {
   "cell_type": "code",
   "execution_count": null,
   "id": "1e9e459b",
   "metadata": {},
   "outputs": [],
   "source": []
  }
 ],
 "metadata": {
  "kernelspec": {
   "display_name": "Python 3 (ipykernel)",
   "language": "python",
   "name": "python3"
  },
  "language_info": {
   "codemirror_mode": {
    "name": "ipython",
    "version": 3
   },
   "file_extension": ".py",
   "mimetype": "text/x-python",
   "name": "python",
   "nbconvert_exporter": "python",
   "pygments_lexer": "ipython3",
   "version": "3.9.13"
  }
 },
 "nbformat": 4,
 "nbformat_minor": 5
}
